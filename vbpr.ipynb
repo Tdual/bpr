{
 "cells": [
  {
   "cell_type": "markdown",
   "metadata": {},
   "source": [
    "data from http://jmcauley.ucsd.edu/data/tradesy/\n",
    "```\n",
    "wget http://jmcauley.ucsd.edu/data/tradesy/tradesy.json.gz\n",
    "wget http://jmcauley.ucsd.edu/data/tradesy/tradesy_item_urls.json.gz\n",
    "```\n"
   ]
  },
  {
   "cell_type": "code",
   "execution_count": 23,
   "metadata": {
    "collapsed": false
   },
   "outputs": [
    {
     "name": "stdout",
     "output_type": "stream",
     "text": [
      "notebook\n"
     ]
    }
   ],
   "source": [
    "import gzip\n",
    "import numpy as np\n",
    "import tensorflow as tf\n",
    "from collections import defaultdict\n",
    "import gensim as gs\n",
    "try:\n",
    "    # noinspection PyUnresolvedReferences\n",
    "    if get_ipython().__class__.__name__ == 'ZMQInteractiveShell':\n",
    "        print(\"notebook\")\n",
    "        from tqdm import tqdm_notebook as tqdm\n",
    "    else:\n",
    "        raise RuntimeError\n",
    "except (NameError, RuntimeError):\n",
    "    from tqdm import tqdm"
   ]
  },
  {
   "cell_type": "code",
   "execution_count": 24,
   "metadata": {
    "collapsed": true
   },
   "outputs": [],
   "source": [
    "user_data = eval(gzip.open(\"./tradesy.json.gz\", 'r').read())"
   ]
  },
  {
   "cell_type": "code",
   "execution_count": 25,
   "metadata": {
    "collapsed": false
   },
   "outputs": [
    {
     "data": {
      "text/plain": [
       "128152"
      ]
     },
     "execution_count": 25,
     "metadata": {},
     "output_type": "execute_result"
    }
   ],
   "source": [
    "len(user_data)"
   ]
  },
  {
   "cell_type": "code",
   "execution_count": 26,
   "metadata": {
    "collapsed": false
   },
   "outputs": [
    {
     "data": {
      "text/plain": [
       "{'lists': {'bought': ['845', '833', '829'],\n",
       "  'selling': [],\n",
       "  'sold': [],\n",
       "  'want': []},\n",
       " 'uid': '6'}"
      ]
     },
     "execution_count": 26,
     "metadata": {},
     "output_type": "execute_result"
    }
   ],
   "source": [
    "user_data[5]"
   ]
  },
  {
   "cell_type": "code",
   "execution_count": 27,
   "metadata": {
    "collapsed": false
   },
   "outputs": [
    {
     "data": {
      "text/plain": [
       "2777"
      ]
     },
     "execution_count": 27,
     "metadata": {},
     "output_type": "execute_result"
    }
   ],
   "source": [
    "item_set = set()\n",
    "user_set = set()\n",
    "for d in user_data:\n",
    "    item_set.update(d[\"lists\"][\"bought\"])\n",
    "    if len(d[\"lists\"][\"bought\"]) >= 5:\n",
    "        user_set.add(d[\"uid\"])\n",
    "len(item_set)\n",
    "len(user_set)"
   ]
  },
  {
   "cell_type": "code",
   "execution_count": 28,
   "metadata": {
    "collapsed": true
   },
   "outputs": [],
   "source": [
    "import struct\n",
    "\n",
    "def readImageFeatures(path):\n",
    "    f = open(path, 'rb')\n",
    "    while True:\n",
    "        userId = f.read(10)\n",
    "        userId = userId.strip()\n",
    "        if userId == '': break\n",
    "        feature = []\n",
    "        for i in range(4096):\n",
    "            feature.append(struct.unpack('f', f.read(4)))\n",
    "        yield userId, feature"
   ]
  },
  {
   "cell_type": "code",
   "execution_count": null,
   "metadata": {
    "collapsed": true
   },
   "outputs": [],
   "source": []
  },
  {
   "cell_type": "code",
   "execution_count": 29,
   "metadata": {
    "collapsed": true
   },
   "outputs": [],
   "source": [
    "#data = {}\n",
    "#max_uid = -1\n",
    "#max_iid = -1\n",
    "#for d in userData:\n",
    "#   if len(d[\"lists\"][\"bought\"]) > 5:\n",
    "#        data[d[\"uid\"]] = d[\"lists\"][\"bought\"]\n",
    "#        max_iid = max(max_iid,max([int(itm) for itm in d[\"lists\"][\"bought\"]]))\n",
    "#    max_uid = max(max_uid, int(d[\"uid\"]))"
   ]
  },
  {
   "cell_type": "code",
   "execution_count": 30,
   "metadata": {
    "collapsed": false
   },
   "outputs": [],
   "source": [
    "#print(\"real user num:\", len(data))\n",
    "#print(\"max uid: \", max_uid)\n",
    "#print(\"max iid: \", max_iid)\n",
    "#item_count = max_iid\n",
    "#user_count = max_uid"
   ]
  },
  {
   "cell_type": "code",
   "execution_count": 31,
   "metadata": {
    "collapsed": true
   },
   "outputs": [],
   "source": [
    "def load_data(data_path):\n",
    "    data = defaultdict(set)\n",
    "    max_u_id = -1\n",
    "    max_i_id = -1\n",
    "    with open(data_path, 'r') as f:\n",
    "        f.readline()\n",
    "        for idx, line in enumerate(f):\n",
    "            u, i, _, _ = line.split(\",\")\n",
    "            u = int(u)\n",
    "            i = int(i)\n",
    "            data[u].add(i)\n",
    "            max_u_id = max(u, max_u_id)\n",
    "            max_i_id = max(i, max_i_id)\n",
    "            if idx == 1000:\n",
    "                break\n",
    "    return max_u_id, max_i_id, data"
   ]
  },
  {
   "cell_type": "code",
   "execution_count": 32,
   "metadata": {
    "collapsed": true
   },
   "outputs": [],
   "source": [
    "def map_data(data_path):\n",
    "    line_list =[]\n",
    "    user_list = []\n",
    "    item_dic = {}\n",
    "    few_buyers =[]\n",
    "    data = defaultdict(set)\n",
    "    with open(data_path, 'r') as f:\n",
    "        for idx, line in enumerate(f):\n",
    "            line = line[:-1] # remove \\n\n",
    "            l = line.split(\",\")\n",
    "            user_id = l[0]\n",
    "            items = l[1:]\n",
    "            user_list.append(user_id)\n",
    "            line_list.append(items)\n",
    "    dictionary = gs.corpora.Dictionary(line_list)\n",
    "\n",
    "    for u, items in zip(user_list, line_list):\n",
    "        data[u].update([dictionary.token2id[item] for item in items])\n",
    "    for u,i in data.items():\n",
    "        if len(i) < 10:\n",
    "            few_buyers.append(u)\n",
    "    for u in few_buyers:\n",
    "        del data[u]\n",
    "    d = {}\n",
    "    user_list = []\n",
    "    for idx,(u,i) in enumerate(data.items()):\n",
    "        d[idx] = i\n",
    "        user_list.append(u)\n",
    "    user_count = len(data.keys())\n",
    "    item_count = len(dictionary)\n",
    "    return (user_count, item_count, d)"
   ]
  },
  {
   "cell_type": "code",
   "execution_count": 33,
   "metadata": {
    "collapsed": true
   },
   "outputs": [],
   "source": [
    "def map_data_2(user_data):\n",
    "    line_list =[]\n",
    "    user_list = []\n",
    "    item_dic = {}\n",
    "    few_buyers =[]\n",
    "    data = defaultdict(set)\n",
    "    for d  in user_data:\n",
    "        user_id = d[\"uid\"]\n",
    "        items = d[\"lists\"][\"bought\"]\n",
    "        user_list.append(user_id)\n",
    "        line_list.append(items)\n",
    "    dictionary = gs.corpora.Dictionary(line_list)\n",
    "    dictionary.filter_extremes(no_below=2)\n",
    "    dictionary.compactify()\n",
    "    for u, items in zip(user_list, line_list):\n",
    "        data[u].update([dictionary.token2id[item] for item in items if item in dictionary.token2id])\n",
    "    for u,i in data.items():\n",
    "        if len(i) < 5:   # 5 same as the paper's\n",
    "            few_buyers.append(u)\n",
    "    for u in few_buyers:\n",
    "        del data[u]\n",
    "    d = {}\n",
    "    user_list = []\n",
    "    for idx,(u,i) in enumerate(data.items()):\n",
    "        d[idx] = i\n",
    "        user_list.append(u)\n",
    "    user_count = len(data.keys())\n",
    "    item_count = len(dictionary)\n",
    "    return user_count, item_count, d, dictionary.token2id, user_list"
   ]
  },
  {
   "cell_type": "code",
   "execution_count": 34,
   "metadata": {
    "collapsed": true
   },
   "outputs": [],
   "source": [
    "def generate_test(data):\n",
    "    user_test = dict()\n",
    "    for u, i_list in data.items():\n",
    "        if i_list:\n",
    "            user_test[u] = np.random.choice(list(i_list))\n",
    "    return user_test"
   ]
  },
  {
   "cell_type": "code",
   "execution_count": 65,
   "metadata": {
    "collapsed": true
   },
   "outputs": [],
   "source": [
    "def generate_train_batch(data, ui_test, item_count, batch_size=512):\n",
    "    batch = []\n",
    "    for _ in range(batch_size):\n",
    "        u = np.random.choice(list(data.keys()))\n",
    "        items = list(data[u])\n",
    "        i = np.random.choice(items)\n",
    "        while i == ui_test[u]:\n",
    "            i = np.random.choice(items)\n",
    "        \n",
    "        j = np.random.randint(item_count)\n",
    "        while j in items:\n",
    "            j = np.random.randint( item_count)\n",
    "        batch.append([u, i, j])\n",
    "    return np.asarray(batch)\n",
    "\n",
    "def generate_test_batch(data, ui_test, item_count, n_user=100, max_test_dim=30000):\n",
    "    for u in np.random.choice(list(ui_test.keys()), n_user):\n",
    "        t = []\n",
    "        i = ui_test[u]\n",
    "        j_list = np.random.randint(item_count, size=max_test_dim)\n",
    "        for j in j_list:\n",
    "            if j not in data[u] and  j != ui_test[u]:\n",
    "                t.append([u, i, j])\n",
    "        yield np.asarray(t)"
   ]
  },
  {
   "cell_type": "code",
   "execution_count": 55,
   "metadata": {
    "collapsed": false
   },
   "outputs": [],
   "source": [
    "def generate_test_batch(train_ratings, test_ratings, item_count, n_user=100, max_test_dim=30000):\n",
    "    # using leave one cv\n",
    "    for u in test_ratings.keys():\n",
    "        i = test_ratings[u]\n",
    "        t = []\n",
    "        ilist = []\n",
    "        jlist = []\n",
    "        for j in range(item_count):\n",
    "            if j != test_ratings[u] and not (j in train_ratings[u]):\n",
    "                # find item not in test[u] and train[u]\n",
    "                t.append([u, i, j])\n",
    "                #ilist.append(image_features[i])\n",
    "                #jlist.append(image_features[j])\n",
    "        yield np.asarray(t)#, numpy.vstack(tuple(ilist)), numpy.vstack(tuple(jlist))"
   ]
  },
  {
   "cell_type": "code",
   "execution_count": 66,
   "metadata": {
    "collapsed": true
   },
   "outputs": [],
   "source": [
    "def weight_variable(shape):\n",
    "    return tf.Variable(tf.random_normal(shape, mean=0.0, stddev=0.01))\n",
    "\n",
    "def bias_variable(shape):\n",
    "    return tf.Variable(tf.random_normal(shape, mean=0.0, stddev=0.01))"
   ]
  },
  {
   "cell_type": "code",
   "execution_count": 67,
   "metadata": {
    "collapsed": false
   },
   "outputs": [],
   "source": [
    "def vbpr(user_count, item_count, hidden_dim):\n",
    "    \n",
    "    u = tf.placeholder(tf.int32, [None])\n",
    "    i = tf.placeholder(tf.int32, [None])\n",
    "    j = tf.placeholder(tf.int32, [None])\n",
    "\n",
    "    user_w = weight_variable([user_count, hidden_dim])\n",
    "    item_w = weight_variable([item_count, hidden_dim])\n",
    "    item_b = bias_variable([item_count, 1])\n",
    "        \n",
    "        \n",
    "    u_e = tf.nn.embedding_lookup(user_w, u)\n",
    "        \n",
    "    i_e = tf.nn.embedding_lookup(item_w, i)\n",
    "    i_b = tf.nn.embedding_lookup(item_b, i)\n",
    "        \n",
    "    j_e = tf.nn.embedding_lookup(item_w, j)\n",
    "    j_b = tf.nn.embedding_lookup(item_b, j)\n",
    "    \n",
    "    #hidden_img_dim=128\n",
    "    #iv = tf.placeholder(tf.float32, [None, 4096])\n",
    "    #jv = tf.placeholder(tf.float32, [None, 4096])\n",
    "    #user_img_w = weight_variable([user_count+1, hidden_img_dim])\n",
    "    #u_img = tf.nn.embedding_lookup(user_img_w, u)\n",
    "    #img_emb_w = weight_variable([4096, hidden_img_dim])\n",
    "\n",
    "    #img_i_j = tf.matmul(iv - jv,  img_emb_w)\n",
    "    \n",
    "    # MF  \n",
    "    x = i_b - j_b + tf.reduce_sum(tf.matmul(u_e, tf.transpose((i_e - j_e))), 1, keep_dims=True)\n",
    "        #+tf.reduce_sum(tf.mul(u_img, img_i_j),1, keep_dims=True)\n",
    "    \n",
    "    auc_per_user = tf.reduce_mean(tf.cast(x > 0,\"float\"))\n",
    "    #auc_per_user = tf.reduce_sum(tf.cast(x > 0,\"float\"))\n",
    "    \n",
    "    \n",
    "    regu_rate = 0.001\n",
    "    l2_norm = tf.add_n([\n",
    "            tf.reduce_sum(tf.norm(u_e)), \n",
    "            tf.reduce_sum(tf.norm(i_e)),\n",
    "            tf.reduce_sum(tf.norm(j_e)),\n",
    "            regu_rate * tf.reduce_sum(tf.norm(i_b)),\n",
    "            regu_rate * tf.reduce_sum(tf.norm(j_b))\n",
    "            #,tf.reduce_sum(tf.mul(u_img, u_img)),\n",
    "            #tf.reduce_sum(tf.mul(img_emb_w, img_emb_w)),\n",
    "        ])\n",
    "    \n",
    "\n",
    "    loss = - tf.reduce_mean(tf.log(tf.sigmoid(x)+1.0e-10)) + l2_norm\n",
    "    \n",
    "    train_op = tf.train.AdamOptimizer(0.001).minimize(loss)\n",
    "    return u, i, j, auc_per_user, loss, train_op, user_w, item_w, item_b, x"
   ]
  },
  {
   "cell_type": "code",
   "execution_count": 68,
   "metadata": {
    "collapsed": false
   },
   "outputs": [
    {
     "name": "stdout",
     "output_type": "stream",
     "text": [
      "item count:  851\n",
      "user count:  14\n"
     ]
    }
   ],
   "source": [
    "user_count, item_count, data, token2id,u_list  = map_data_2(user_data)\n",
    "#user_count, item_count, data = map_data(\"./data.csv\")\n",
    "#user_count, item_count, data = load_data(\"./ml-20m/ratings.csv\")\n",
    "print(\"item count: \", item_count)\n",
    "print(\"user count: \", user_count)\n",
    "ui_test = generate_test(data)"
   ]
  },
  {
   "cell_type": "code",
   "execution_count": 69,
   "metadata": {
    "collapsed": false
   },
   "outputs": [],
   "source": [
    "n_epoch = 50\n",
    "n_iter = 100\n",
    "n_test_user = 10\n",
    "if item_count > 40000:\n",
    "    test_dim =  40000\n",
    "else:\n",
    "    test_dim =  item_count\n",
    "latent_dim = 10\n",
    "batch_size = 2048"
   ]
  },
  {
   "cell_type": "code",
   "execution_count": 70,
   "metadata": {
    "collapsed": false
   },
   "outputs": [
    {
     "ename": "KeyError",
     "evalue": "1000",
     "output_type": "error",
     "traceback": [
      "\u001b[0;31m---------------------------------------------------------------------------\u001b[0m",
      "\u001b[0;31mKeyError\u001b[0m                                  Traceback (most recent call last)",
      "\u001b[0;32m<ipython-input-70-594a87da6c02>\u001b[0m in \u001b[0;36m<module>\u001b[0;34m()\u001b[0m\n\u001b[0;32m----> 1\u001b[0;31m \u001b[0mdata\u001b[0m\u001b[0;34m[\u001b[0m\u001b[0;36m1000\u001b[0m\u001b[0;34m]\u001b[0m\u001b[0;34m\u001b[0m\u001b[0m\n\u001b[0m",
      "\u001b[0;31mKeyError\u001b[0m: 1000"
     ]
    }
   ],
   "source": [
    "data[1000]"
   ]
  },
  {
   "cell_type": "code",
   "execution_count": 71,
   "metadata": {
    "collapsed": false
   },
   "outputs": [
    {
     "ename": "IndexError",
     "evalue": "list index out of range",
     "output_type": "error",
     "traceback": [
      "\u001b[0;31m---------------------------------------------------------------------------\u001b[0m",
      "\u001b[0;31mIndexError\u001b[0m                                Traceback (most recent call last)",
      "\u001b[0;32m<ipython-input-71-49ad01a22814>\u001b[0m in \u001b[0;36m<module>\u001b[0;34m()\u001b[0m\n\u001b[0;32m----> 1\u001b[0;31m \u001b[0mu_list\u001b[0m\u001b[0;34m[\u001b[0m\u001b[0;36m1000\u001b[0m\u001b[0;34m]\u001b[0m\u001b[0;34m\u001b[0m\u001b[0m\n\u001b[0m",
      "\u001b[0;31mIndexError\u001b[0m: list index out of range"
     ]
    }
   ],
   "source": [
    "u_list[1000]"
   ]
  },
  {
   "cell_type": "code",
   "execution_count": 72,
   "metadata": {
    "collapsed": false
   },
   "outputs": [
    {
     "name": "stdout",
     "output_type": "stream",
     "text": [
      "['294380', '278059', '272025', '266617', '189569', '103990', '40750']\n"
     ]
    }
   ],
   "source": [
    "for u in user_data:\n",
    "    if u[\"uid\"] == \"459542\":\n",
    "        print(u[\"lists\"][\"bought\"])"
   ]
  },
  {
   "cell_type": "code",
   "execution_count": 73,
   "metadata": {
    "collapsed": false
   },
   "outputs": [
    {
     "ename": "KeyError",
     "evalue": "'294380'",
     "output_type": "error",
     "traceback": [
      "\u001b[0;31m---------------------------------------------------------------------------\u001b[0m",
      "\u001b[0;31mKeyError\u001b[0m                                  Traceback (most recent call last)",
      "\u001b[0;32m<ipython-input-73-04acd67b6b98>\u001b[0m in \u001b[0;36m<module>\u001b[0;34m()\u001b[0m\n\u001b[0;32m----> 1\u001b[0;31m \u001b[0mtoken2id\u001b[0m\u001b[0;34m[\u001b[0m\u001b[0;34m'294380'\u001b[0m\u001b[0;34m]\u001b[0m\u001b[0;34m\u001b[0m\u001b[0m\n\u001b[0m",
      "\u001b[0;31mKeyError\u001b[0m: '294380'"
     ]
    }
   ],
   "source": [
    "token2id['294380']"
   ]
  },
  {
   "cell_type": "code",
   "execution_count": 74,
   "metadata": {
    "collapsed": false,
    "scrolled": false
   },
   "outputs": [
    {
     "name": "stdout",
     "output_type": "stream",
     "text": [
      "\n",
      "epoch:  0 , loss:  1.1906452167\n",
      "\n",
      "test loss:  0.0744731128216 , test auc:  0.500191508979\n",
      "\n",
      "epoch:  1 , loss:  0.641840184331\n",
      "\n",
      "test loss:  0.0739879488945 , test auc:  0.62669634521\n",
      "\n",
      "epoch:  2 , loss:  0.588314171433\n",
      "\n",
      "test loss:  0.0788678109646 , test auc:  0.56174582094\n",
      "\n",
      "epoch:  3 , loss:  0.543907094598\n",
      "\n",
      "test loss:  0.0793892264366 , test auc:  0.621329340339\n",
      "\n",
      "epoch:  4 , loss:  0.507039065063\n",
      "\n",
      "test loss:  0.0799556076527 , test auc:  0.534989665449\n",
      "\n"
     ]
    },
    {
     "ename": "KeyboardInterrupt",
     "evalue": "",
     "output_type": "error",
     "traceback": [
      "\u001b[0;31m---------------------------------------------------------------------------\u001b[0m",
      "\u001b[0;31mKeyboardInterrupt\u001b[0m                         Traceback (most recent call last)",
      "\u001b[0;32m<ipython-input-74-318718295822>\u001b[0m in \u001b[0;36m<module>\u001b[0;34m()\u001b[0m\n\u001b[1;32m      7\u001b[0m         \u001b[0;32mfor\u001b[0m \u001b[0m_\u001b[0m \u001b[0;32min\u001b[0m \u001b[0mtqdm\u001b[0m\u001b[0;34m(\u001b[0m\u001b[0mrange\u001b[0m\u001b[0;34m(\u001b[0m\u001b[0mn_iter\u001b[0m\u001b[0;34m)\u001b[0m\u001b[0;34m)\u001b[0m\u001b[0;34m:\u001b[0m\u001b[0;34m\u001b[0m\u001b[0m\n\u001b[1;32m      8\u001b[0m             \u001b[0muij\u001b[0m \u001b[0;34m=\u001b[0m \u001b[0mgenerate_train_batch\u001b[0m\u001b[0;34m(\u001b[0m\u001b[0mdata\u001b[0m\u001b[0;34m,\u001b[0m \u001b[0mui_test\u001b[0m\u001b[0;34m,\u001b[0m \u001b[0mitem_count\u001b[0m\u001b[0;34m,\u001b[0m \u001b[0mbatch_size\u001b[0m\u001b[0;34m)\u001b[0m\u001b[0;34m\u001b[0m\u001b[0m\n\u001b[0;32m----> 9\u001b[0;31m             \u001b[0m_loss\u001b[0m\u001b[0;34m,\u001b[0m \u001b[0m_\u001b[0m \u001b[0;34m=\u001b[0m \u001b[0msession\u001b[0m\u001b[0;34m.\u001b[0m\u001b[0mrun\u001b[0m\u001b[0;34m(\u001b[0m\u001b[0;34m[\u001b[0m\u001b[0mloss\u001b[0m\u001b[0;34m,\u001b[0m \u001b[0mtrain_op\u001b[0m\u001b[0;34m]\u001b[0m\u001b[0;34m,\u001b[0m \u001b[0mfeed_dict\u001b[0m\u001b[0;34m=\u001b[0m\u001b[0;34m{\u001b[0m\u001b[0mu\u001b[0m\u001b[0;34m:\u001b[0m\u001b[0muij\u001b[0m\u001b[0;34m[\u001b[0m\u001b[0;34m:\u001b[0m\u001b[0;34m,\u001b[0m\u001b[0;36m0\u001b[0m\u001b[0;34m]\u001b[0m\u001b[0;34m,\u001b[0m \u001b[0mi\u001b[0m\u001b[0;34m:\u001b[0m\u001b[0muij\u001b[0m\u001b[0;34m[\u001b[0m\u001b[0;34m:\u001b[0m\u001b[0;34m,\u001b[0m\u001b[0;36m1\u001b[0m\u001b[0;34m]\u001b[0m\u001b[0;34m,\u001b[0m \u001b[0mj\u001b[0m\u001b[0;34m:\u001b[0m\u001b[0muij\u001b[0m\u001b[0;34m[\u001b[0m\u001b[0;34m:\u001b[0m\u001b[0;34m,\u001b[0m\u001b[0;36m2\u001b[0m\u001b[0;34m]\u001b[0m\u001b[0;34m}\u001b[0m\u001b[0;34m)\u001b[0m\u001b[0;34m\u001b[0m\u001b[0m\n\u001b[0m\u001b[1;32m     10\u001b[0m             \u001b[0m_batch_loss\u001b[0m \u001b[0;34m+=\u001b[0m \u001b[0m_loss\u001b[0m\u001b[0;34m\u001b[0m\u001b[0m\n\u001b[1;32m     11\u001b[0m \u001b[0;34m\u001b[0m\u001b[0m\n",
      "\u001b[0;32m/Users/tdual/anaconda2/envs/py3.6/lib/python3.6/site-packages/tensorflow/python/client/session.py\u001b[0m in \u001b[0;36mrun\u001b[0;34m(self, fetches, feed_dict, options, run_metadata)\u001b[0m\n\u001b[1;32m    787\u001b[0m     \u001b[0;32mtry\u001b[0m\u001b[0;34m:\u001b[0m\u001b[0;34m\u001b[0m\u001b[0m\n\u001b[1;32m    788\u001b[0m       result = self._run(None, fetches, feed_dict, options_ptr,\n\u001b[0;32m--> 789\u001b[0;31m                          run_metadata_ptr)\n\u001b[0m\u001b[1;32m    790\u001b[0m       \u001b[0;32mif\u001b[0m \u001b[0mrun_metadata\u001b[0m\u001b[0;34m:\u001b[0m\u001b[0;34m\u001b[0m\u001b[0m\n\u001b[1;32m    791\u001b[0m         \u001b[0mproto_data\u001b[0m \u001b[0;34m=\u001b[0m \u001b[0mtf_session\u001b[0m\u001b[0;34m.\u001b[0m\u001b[0mTF_GetBuffer\u001b[0m\u001b[0;34m(\u001b[0m\u001b[0mrun_metadata_ptr\u001b[0m\u001b[0;34m)\u001b[0m\u001b[0;34m\u001b[0m\u001b[0m\n",
      "\u001b[0;32m/Users/tdual/anaconda2/envs/py3.6/lib/python3.6/site-packages/tensorflow/python/client/session.py\u001b[0m in \u001b[0;36m_run\u001b[0;34m(self, handle, fetches, feed_dict, options, run_metadata)\u001b[0m\n\u001b[1;32m    995\u001b[0m     \u001b[0;32mif\u001b[0m \u001b[0mfinal_fetches\u001b[0m \u001b[0;32mor\u001b[0m \u001b[0mfinal_targets\u001b[0m\u001b[0;34m:\u001b[0m\u001b[0;34m\u001b[0m\u001b[0m\n\u001b[1;32m    996\u001b[0m       results = self._do_run(handle, final_targets, final_fetches,\n\u001b[0;32m--> 997\u001b[0;31m                              feed_dict_string, options, run_metadata)\n\u001b[0m\u001b[1;32m    998\u001b[0m     \u001b[0;32melse\u001b[0m\u001b[0;34m:\u001b[0m\u001b[0;34m\u001b[0m\u001b[0m\n\u001b[1;32m    999\u001b[0m       \u001b[0mresults\u001b[0m \u001b[0;34m=\u001b[0m \u001b[0;34m[\u001b[0m\u001b[0;34m]\u001b[0m\u001b[0;34m\u001b[0m\u001b[0m\n",
      "\u001b[0;32m/Users/tdual/anaconda2/envs/py3.6/lib/python3.6/site-packages/tensorflow/python/client/session.py\u001b[0m in \u001b[0;36m_do_run\u001b[0;34m(self, handle, target_list, fetch_list, feed_dict, options, run_metadata)\u001b[0m\n\u001b[1;32m   1130\u001b[0m     \u001b[0;32mif\u001b[0m \u001b[0mhandle\u001b[0m \u001b[0;32mis\u001b[0m \u001b[0;32mNone\u001b[0m\u001b[0;34m:\u001b[0m\u001b[0;34m\u001b[0m\u001b[0m\n\u001b[1;32m   1131\u001b[0m       return self._do_call(_run_fn, self._session, feed_dict, fetch_list,\n\u001b[0;32m-> 1132\u001b[0;31m                            target_list, options, run_metadata)\n\u001b[0m\u001b[1;32m   1133\u001b[0m     \u001b[0;32melse\u001b[0m\u001b[0;34m:\u001b[0m\u001b[0;34m\u001b[0m\u001b[0m\n\u001b[1;32m   1134\u001b[0m       return self._do_call(_prun_fn, self._session, handle, feed_dict,\n",
      "\u001b[0;32m/Users/tdual/anaconda2/envs/py3.6/lib/python3.6/site-packages/tensorflow/python/client/session.py\u001b[0m in \u001b[0;36m_do_call\u001b[0;34m(self, fn, *args)\u001b[0m\n\u001b[1;32m   1137\u001b[0m   \u001b[0;32mdef\u001b[0m \u001b[0m_do_call\u001b[0m\u001b[0;34m(\u001b[0m\u001b[0mself\u001b[0m\u001b[0;34m,\u001b[0m \u001b[0mfn\u001b[0m\u001b[0;34m,\u001b[0m \u001b[0;34m*\u001b[0m\u001b[0margs\u001b[0m\u001b[0;34m)\u001b[0m\u001b[0;34m:\u001b[0m\u001b[0;34m\u001b[0m\u001b[0m\n\u001b[1;32m   1138\u001b[0m     \u001b[0;32mtry\u001b[0m\u001b[0;34m:\u001b[0m\u001b[0;34m\u001b[0m\u001b[0m\n\u001b[0;32m-> 1139\u001b[0;31m       \u001b[0;32mreturn\u001b[0m \u001b[0mfn\u001b[0m\u001b[0;34m(\u001b[0m\u001b[0;34m*\u001b[0m\u001b[0margs\u001b[0m\u001b[0;34m)\u001b[0m\u001b[0;34m\u001b[0m\u001b[0m\n\u001b[0m\u001b[1;32m   1140\u001b[0m     \u001b[0;32mexcept\u001b[0m \u001b[0merrors\u001b[0m\u001b[0;34m.\u001b[0m\u001b[0mOpError\u001b[0m \u001b[0;32mas\u001b[0m \u001b[0me\u001b[0m\u001b[0;34m:\u001b[0m\u001b[0;34m\u001b[0m\u001b[0m\n\u001b[1;32m   1141\u001b[0m       \u001b[0mmessage\u001b[0m \u001b[0;34m=\u001b[0m \u001b[0mcompat\u001b[0m\u001b[0;34m.\u001b[0m\u001b[0mas_text\u001b[0m\u001b[0;34m(\u001b[0m\u001b[0me\u001b[0m\u001b[0;34m.\u001b[0m\u001b[0mmessage\u001b[0m\u001b[0;34m)\u001b[0m\u001b[0;34m\u001b[0m\u001b[0m\n",
      "\u001b[0;32m/Users/tdual/anaconda2/envs/py3.6/lib/python3.6/site-packages/tensorflow/python/client/session.py\u001b[0m in \u001b[0;36m_run_fn\u001b[0;34m(session, feed_dict, fetch_list, target_list, options, run_metadata)\u001b[0m\n\u001b[1;32m   1119\u001b[0m         return tf_session.TF_Run(session, options,\n\u001b[1;32m   1120\u001b[0m                                  \u001b[0mfeed_dict\u001b[0m\u001b[0;34m,\u001b[0m \u001b[0mfetch_list\u001b[0m\u001b[0;34m,\u001b[0m \u001b[0mtarget_list\u001b[0m\u001b[0;34m,\u001b[0m\u001b[0;34m\u001b[0m\u001b[0m\n\u001b[0;32m-> 1121\u001b[0;31m                                  status, run_metadata)\n\u001b[0m\u001b[1;32m   1122\u001b[0m \u001b[0;34m\u001b[0m\u001b[0m\n\u001b[1;32m   1123\u001b[0m     \u001b[0;32mdef\u001b[0m \u001b[0m_prun_fn\u001b[0m\u001b[0;34m(\u001b[0m\u001b[0msession\u001b[0m\u001b[0;34m,\u001b[0m \u001b[0mhandle\u001b[0m\u001b[0;34m,\u001b[0m \u001b[0mfeed_dict\u001b[0m\u001b[0;34m,\u001b[0m \u001b[0mfetch_list\u001b[0m\u001b[0;34m)\u001b[0m\u001b[0;34m:\u001b[0m\u001b[0;34m\u001b[0m\u001b[0m\n",
      "\u001b[0;31mKeyboardInterrupt\u001b[0m: "
     ]
    }
   ],
   "source": [
    "with tf.Session() as session:\n",
    "    u, i, j, auc_per_user, loss, train_op,W_u,W_i,b_i,x = vbpr(user_count, item_count, latent_dim)\n",
    "    session.run(tf.global_variables_initializer())\n",
    "    \n",
    "    for epoch in range(n_epoch):\n",
    "        _batch_loss = 0\n",
    "        for _ in tqdm(range(n_iter)): \n",
    "            uij = generate_train_batch(data, ui_test, item_count, batch_size)\n",
    "            _loss, _ = session.run([loss, train_op], feed_dict={u:uij[:,0], i:uij[:,1], j:uij[:,2]})\n",
    "            _batch_loss += _loss\n",
    "                   \n",
    "        print(\"epoch: \", epoch, \", loss: \", _batch_loss / n_iter)\n",
    "\n",
    "        _auc_sum = 0.0\n",
    "        _loss_sum = 0.0\n",
    "        user_count = 0\n",
    "        for t_uij in tqdm(generate_test_batch(data, ui_test, item_count,n_user=n_test_user, max_test_dim=test_dim)):\n",
    "            _auc_per_user, _test_loss = session.run([auc_per_user, loss], feed_dict={u:t_uij[:,0], i:t_uij[:,1], j:t_uij[:,2]})\n",
    "            user_count += 1\n",
    "            _auc_sum += _auc_per_user\n",
    "            _loss_sum += _test_loss\n",
    "            \n",
    "        _auc = _auc_sum /user_count # eq (1) in the paper\n",
    "        \n",
    "            \n",
    "        print(\"test loss: \", _test_loss/user_count, \", test auc: \", _auc)\n",
    "    wu, wi, bi = session.run([W_u, W_i, b_i])"
   ]
  },
  {
   "cell_type": "code",
   "execution_count": null,
   "metadata": {
    "collapsed": true
   },
   "outputs": [],
   "source": []
  },
  {
   "cell_type": "code",
   "execution_count": null,
   "metadata": {
    "collapsed": true
   },
   "outputs": [],
   "source": [
    "def get_ranking(item_id):\n",
    "    #iid = self.item2id[item_id]\n",
    "    iid = item_id\n",
    "    item_vec = bi[iid] + wi[iid]\n",
    "    scores = np.dot(wu, item_vec)\n",
    "    res = [\n",
    "        (np.argsort(scores)[::-1][index],  np.sort(scores)[::-1][index]) for index in range(10)]\n",
    "    return res\n",
    "get_ranking(1)"
   ]
  },
  {
   "cell_type": "code",
   "execution_count": null,
   "metadata": {
    "collapsed": false
   },
   "outputs": [],
   "source": [
    "np.random.randint(item_count,size=test_dim)"
   ]
  },
  {
   "cell_type": "code",
   "execution_count": null,
   "metadata": {
    "collapsed": false
   },
   "outputs": [],
   "source": []
  },
  {
   "cell_type": "code",
   "execution_count": null,
   "metadata": {
    "collapsed": true
   },
   "outputs": [],
   "source": []
  }
 ],
 "metadata": {
  "kernelspec": {
   "display_name": "Environment (py3.6)",
   "language": "",
   "name": "py3.6"
  },
  "language_info": {
   "codemirror_mode": {
    "name": "ipython",
    "version": 3
   },
   "file_extension": ".py",
   "mimetype": "text/x-python",
   "name": "python",
   "nbconvert_exporter": "python",
   "pygments_lexer": "ipython3",
   "version": "3.6.0"
  },
  "widgets": {
   "state": {
    "00b824bb2fd24599a854b6a9a53bc6d5": {
     "views": [
      {
       "cell_index": 24
      }
     ]
    },
    "01d03f7759964462a732df5a002de98a": {
     "views": [
      {
       "cell_index": 25
      }
     ]
    },
    "0220783b17394e6aa94339a0e5ecf54b": {
     "views": [
      {
       "cell_index": 25
      }
     ]
    },
    "027cce16ffc2489190cbef81f4eb3f2b": {
     "views": [
      {
       "cell_index": 24
      }
     ]
    },
    "038d3cdb34be4e0f9cd857766dbfae4e": {
     "views": [
      {
       "cell_index": 25
      }
     ]
    },
    "047d6813e948473d95ca68c327386655": {
     "views": [
      {
       "cell_index": 25
      }
     ]
    },
    "053278c6d1dd4aae90189b22422ae0d7": {
     "views": [
      {
       "cell_index": 23
      }
     ]
    },
    "05e1420a2faf4de48f847f8142128241": {
     "views": [
      {
       "cell_index": 25
      }
     ]
    },
    "095c65eac4004830af9596afe34da278": {
     "views": [
      {
       "cell_index": 25
      }
     ]
    },
    "0968f21bfecf4e1ea8024001490b3169": {
     "views": [
      {
       "cell_index": 19
      }
     ]
    },
    "097711fe01c1481e87ff5d38078174a4": {
     "views": [
      {
       "cell_index": 24
      }
     ]
    },
    "0b146399f49f4c51b7341fc7745f344b": {
     "views": [
      {
       "cell_index": 24
      }
     ]
    },
    "0b3796d3f4e14ac4a55f067c4d963ac0": {
     "views": [
      {
       "cell_index": 24
      }
     ]
    },
    "0bc62fee49f8433da11cc7ec368429f7": {
     "views": [
      {
       "cell_index": 25
      }
     ]
    },
    "0c21e59fa16946d4a720554a59aca882": {
     "views": [
      {
       "cell_index": 25
      }
     ]
    },
    "0d009a8350154192aaf99dd35f00aab1": {
     "views": [
      {
       "cell_index": 25
      }
     ]
    },
    "0e609919c7694f21a519e18f6c30561a": {
     "views": [
      {
       "cell_index": 23
      }
     ]
    },
    "1012b54842f5434c8e9bd4402be39376": {
     "views": [
      {
       "cell_index": 25
      }
     ]
    },
    "1074d247deb74125b38013435ae7655d": {
     "views": [
      {
       "cell_index": 23
      }
     ]
    },
    "11fde193a6304887a2a5ed103422fb5f": {
     "views": [
      {
       "cell_index": 24
      }
     ]
    },
    "121a56f03fb046369f3b26e90793a4af": {
     "views": [
      {
       "cell_index": 24
      }
     ]
    },
    "12b5457f60e1425b89f173f4acd1732e": {
     "views": [
      {
       "cell_index": 25
      }
     ]
    },
    "12cd7d0c051a40bfa491995b9e9168fc": {
     "views": [
      {
       "cell_index": 24
      }
     ]
    },
    "131640cdcd6c42ba95cd50023239c3c1": {
     "views": [
      {
       "cell_index": 25
      }
     ]
    },
    "13b15e356e9d469d9bae4158087c5d6a": {
     "views": [
      {
       "cell_index": 24
      }
     ]
    },
    "140c567e05bb4aa4a4676fa87b513261": {
     "views": [
      {
       "cell_index": 25
      }
     ]
    },
    "1453d5c586c246b8ac41b73e5d8e9021": {
     "views": [
      {
       "cell_index": 25
      }
     ]
    },
    "1586d131300b4768ae4da9ca59ebd5cd": {
     "views": [
      {
       "cell_index": 25
      }
     ]
    },
    "15c88879c0104da7a7d7621944b23037": {
     "views": [
      {
       "cell_index": 25
      }
     ]
    },
    "16de140f23fb4b888d6a2e2f5a9f4c4e": {
     "views": [
      {
       "cell_index": 25
      }
     ]
    },
    "175aa7cdf9d44bd5b3b154081f28989e": {
     "views": [
      {
       "cell_index": 19
      }
     ]
    },
    "195e514d66b041d6b1253056254e7f41": {
     "views": [
      {
       "cell_index": 25
      }
     ]
    },
    "19ee7255c04f4e2a91b858bb458374e5": {
     "views": [
      {
       "cell_index": 23
      }
     ]
    },
    "19f3e820a3554d3d8659c235ff3174f3": {
     "views": [
      {
       "cell_index": 23
      }
     ]
    },
    "1acbf026b05b47e68e3177705c1ce377": {
     "views": [
      {
       "cell_index": 24
      }
     ]
    },
    "1b2d2b59672644ba8d1a20ea52e1ebe8": {
     "views": [
      {
       "cell_index": 25
      }
     ]
    },
    "1c388c126a984506824c7fb74c9a1cec": {
     "views": [
      {
       "cell_index": 24
      }
     ]
    },
    "1c3899c62338470780cb4d05da32a5cc": {
     "views": [
      {
       "cell_index": 26
      }
     ]
    },
    "1db4732d16d54652bcd8d39e6a2a3fc2": {
     "views": [
      {
       "cell_index": 25
      }
     ]
    },
    "1dcdaba372034671968b75abc51bb119": {
     "views": [
      {
       "cell_index": 24
      }
     ]
    },
    "1dec9a7298bf4c299e9a675ece58c19a": {
     "views": [
      {
       "cell_index": 25
      }
     ]
    },
    "1eabde6e754b49aa8c1a73796a15a7fe": {
     "views": [
      {
       "cell_index": 25
      }
     ]
    },
    "209e16a895fc46bd805499e373daf880": {
     "views": [
      {
       "cell_index": 25
      }
     ]
    },
    "210453ffbf2544d19e601bdd6048977b": {
     "views": [
      {
       "cell_index": 24
      }
     ]
    },
    "2138370d505e493686ff22088a1a2ef2": {
     "views": [
      {
       "cell_index": 25
      }
     ]
    },
    "21a1c215a25441eb8deb993c9dc1f430": {
     "views": [
      {
       "cell_index": 25
      }
     ]
    },
    "22d2f7e17f8e4324a97cd10be3fe3540": {
     "views": [
      {
       "cell_index": 24
      }
     ]
    },
    "2345a994e0b9470ba87d1bd9d28c3dfc": {
     "views": [
      {
       "cell_index": 24
      }
     ]
    },
    "23c2ceef96d14373bcd6fcedd89c6c39": {
     "views": [
      {
       "cell_index": 23
      }
     ]
    },
    "2485d4941f3c4fa19a10d860fdbabe81": {
     "views": [
      {
       "cell_index": 25
      }
     ]
    },
    "24d617c7281747e3a31216659d7ea1a2": {
     "views": [
      {
       "cell_index": 24
      }
     ]
    },
    "250d0e893d1d4f7ea531c398bb269d53": {
     "views": [
      {
       "cell_index": 25
      }
     ]
    },
    "2556a0937ad1492e9805fc5852569347": {
     "views": [
      {
       "cell_index": 25
      }
     ]
    },
    "25c84ff48ce94574b46a69a8f3c4ca2c": {
     "views": [
      {
       "cell_index": 25
      }
     ]
    },
    "2760f7dcac28474d9ddfc03331218f53": {
     "views": [
      {
       "cell_index": 24
      }
     ]
    },
    "284cb9e498934b9b971340c98e25d863": {
     "views": [
      {
       "cell_index": 25
      }
     ]
    },
    "2a58b4afc83a4f8f8838f57f023615aa": {
     "views": [
      {
       "cell_index": 25
      }
     ]
    },
    "2a9a9c969ad542cdab11d861f0a79226": {
     "views": [
      {
       "cell_index": 25
      }
     ]
    },
    "2acc9e4ce5364f2c958c110b7b3fd7b2": {
     "views": [
      {
       "cell_index": 25
      }
     ]
    },
    "2b5381603a0b48c7a740164435c8a2c1": {
     "views": [
      {
       "cell_index": 23
      }
     ]
    },
    "2c13c527dd5d47b7ba0242e21f7a8ca8": {
     "views": [
      {
       "cell_index": 23
      }
     ]
    },
    "2cb1c72b03b14f55999e16b595b676c1": {
     "views": [
      {
       "cell_index": 23
      }
     ]
    },
    "2d31820998d448578f71d33d9747fe2d": {
     "views": [
      {
       "cell_index": 25
      }
     ]
    },
    "2d670380cda5478f9be7418c9fec2ddb": {
     "views": [
      {
       "cell_index": 24
      }
     ]
    },
    "2e19ab7851444558add456dde9a6d287": {
     "views": [
      {
       "cell_index": 23
      }
     ]
    },
    "2f70f7f4c40449d2a4d16fbe9dd60668": {
     "views": [
      {
       "cell_index": 25
      }
     ]
    },
    "306e63c3146645158961ebaaecd05c92": {
     "views": [
      {
       "cell_index": 23
      }
     ]
    },
    "30c0c4a1df6f427fa6ad6b8f82061b3b": {
     "views": [
      {
       "cell_index": 25
      }
     ]
    },
    "30c292fd468b432abd5f3fa36d4e6765": {
     "views": [
      {
       "cell_index": 25
      }
     ]
    },
    "31192f53324147d28acb42852a398297": {
     "views": [
      {
       "cell_index": 25
      }
     ]
    },
    "31807510739241adb9cb8f801dccf81b": {
     "views": [
      {
       "cell_index": 25
      }
     ]
    },
    "3201f29e666d4d728bb887b90081688d": {
     "views": [
      {
       "cell_index": 25
      }
     ]
    },
    "331abbb773b94d11bc748f6b1918ef53": {
     "views": [
      {
       "cell_index": 25
      }
     ]
    },
    "339963f9b08b40ddbfe78231cad8356a": {
     "views": [
      {
       "cell_index": 23
      }
     ]
    },
    "33ab1baa75234695a4d0e880524108f6": {
     "views": [
      {
       "cell_index": 25
      }
     ]
    },
    "33ada9be22cc4e4eb8f3e25787b853b3": {
     "views": [
      {
       "cell_index": 24
      }
     ]
    },
    "34d527c0e2b54ecaaf48a4d141925b24": {
     "views": [
      {
       "cell_index": 25
      }
     ]
    },
    "351bb189f04641eeaa33700b6727bcec": {
     "views": [
      {
       "cell_index": 25
      }
     ]
    },
    "35841e4127444fc98902f7ae28f1f4fd": {
     "views": [
      {
       "cell_index": 24
      }
     ]
    },
    "36ca846aee74433e8b6c8e02e016cfa7": {
     "views": [
      {
       "cell_index": 19
      }
     ]
    },
    "371edc842c334d49ae84920e56681e14": {
     "views": [
      {
       "cell_index": 25
      }
     ]
    },
    "378b17db018a4f258a0849783f2ad7b3": {
     "views": [
      {
       "cell_index": 25
      }
     ]
    },
    "378d374e65274e5aaad1c73f0032dc7f": {
     "views": [
      {
       "cell_index": 25
      }
     ]
    },
    "37cdcc39d1db464c8706af24341e2b8b": {
     "views": [
      {
       "cell_index": 25
      }
     ]
    },
    "381ba207d692430b907e284308bf8058": {
     "views": [
      {
       "cell_index": 24
      }
     ]
    },
    "38c4d7b5a49045d294aafa45812cfd56": {
     "views": [
      {
       "cell_index": 24
      }
     ]
    },
    "3941b43660e6416d8dd5a804d37d03b2": {
     "views": [
      {
       "cell_index": 25
      }
     ]
    },
    "3b276b053a3d4440bd901fd44d4b3831": {
     "views": [
      {
       "cell_index": 24
      }
     ]
    },
    "3b9abb818b7745cb895e46b1b63c5990": {
     "views": [
      {
       "cell_index": 25
      }
     ]
    },
    "3bcb72d26bf8445bbeb97d2ad1a60a1f": {
     "views": [
      {
       "cell_index": 24
      }
     ]
    },
    "3e398900f1dc4a9fb187d3940902dc80": {
     "views": [
      {
       "cell_index": 25
      }
     ]
    },
    "3e6980ac86434137b4d1f807c548d3e0": {
     "views": [
      {
       "cell_index": 25
      }
     ]
    },
    "404a910f64b54825aa80abddd3da7a73": {
     "views": [
      {
       "cell_index": 24
      }
     ]
    },
    "41a01e55d6c9422c8dd656db0e205525": {
     "views": [
      {
       "cell_index": 23
      }
     ]
    },
    "43379a1de279466abc645403e1f40c8e": {
     "views": [
      {
       "cell_index": 25
      }
     ]
    },
    "46e65cf035db4c67879fdea7b362505d": {
     "views": [
      {
       "cell_index": 23
      }
     ]
    },
    "474170af097646f497efa9bd1ddc769e": {
     "views": [
      {
       "cell_index": 25
      }
     ]
    },
    "4b3902e5686f4683b270c3a6d760ad7e": {
     "views": [
      {
       "cell_index": 25
      }
     ]
    },
    "4b4fdede0de04ffab2435a2a438e40f3": {
     "views": [
      {
       "cell_index": 25
      }
     ]
    },
    "4b61485f8e5a4b5ab84c0eeed1bfed5b": {
     "views": [
      {
       "cell_index": 23
      }
     ]
    },
    "4bdee66d4bd64b3d8a1be9fe4940da53": {
     "views": [
      {
       "cell_index": 25
      }
     ]
    },
    "4bf820547aab4be586d279b67d0d39fd": {
     "views": [
      {
       "cell_index": 25
      }
     ]
    },
    "4d4eec22ee744e1da988a39c9f07e8c6": {
     "views": [
      {
       "cell_index": 25
      }
     ]
    },
    "4f62cfb4baa7451dbf2dd238ba56f037": {
     "views": [
      {
       "cell_index": 24
      }
     ]
    },
    "50b466fb315c489eb40dfdfa66345d78": {
     "views": [
      {
       "cell_index": 24
      }
     ]
    },
    "50c153000e064618871d71173edecd6a": {
     "views": [
      {
       "cell_index": 24
      }
     ]
    },
    "50d65562d02349e99662403eac193bcb": {
     "views": [
      {
       "cell_index": 25
      }
     ]
    },
    "5181ea9b5a0c40978104e2dbf7c54971": {
     "views": [
      {
       "cell_index": 25
      }
     ]
    },
    "545c67ec8c61482381818e176629dff9": {
     "views": [
      {
       "cell_index": 24
      }
     ]
    },
    "546627e97c4e465781a20dc11adab726": {
     "views": [
      {
       "cell_index": 25
      }
     ]
    },
    "54744050bfc1417db8ff2d89889f8e31": {
     "views": [
      {
       "cell_index": 25
      }
     ]
    },
    "5563034a5262414e8036739f57e12a4b": {
     "views": [
      {
       "cell_index": 25
      }
     ]
    },
    "55e70c8ddbb142f99124ffca4502c15c": {
     "views": [
      {
       "cell_index": 25
      }
     ]
    },
    "560fa9b85de6473e9044fc0edc81d1ef": {
     "views": [
      {
       "cell_index": 25
      }
     ]
    },
    "56f645309ab74d36b8d88827084d6b73": {
     "views": [
      {
       "cell_index": 24
      }
     ]
    },
    "575de48b7e924b61be6ee379dc555e8c": {
     "views": [
      {
       "cell_index": 25
      }
     ]
    },
    "57d799af2dd24029a2de127031329ac2": {
     "views": [
      {
       "cell_index": 25
      }
     ]
    },
    "58348a8fb973445aafc0bb9ca3076650": {
     "views": [
      {
       "cell_index": 25
      }
     ]
    },
    "5973a049f75347d7bf93b42a897ba0a5": {
     "views": [
      {
       "cell_index": 23
      }
     ]
    },
    "5a3f043077984836b0a155de29a63375": {
     "views": [
      {
       "cell_index": 25
      }
     ]
    },
    "5b10b715cc6a4f9598de3abb06d950ca": {
     "views": [
      {
       "cell_index": 25
      }
     ]
    },
    "5d647a8e35044cb29d6b83c595ef41b6": {
     "views": [
      {
       "cell_index": 23
      }
     ]
    },
    "5d7bda8464ca40eca7aa5dcd1d9a63f3": {
     "views": [
      {
       "cell_index": 24
      }
     ]
    },
    "5e5b286b3b784bdf9cd835a95b402126": {
     "views": [
      {
       "cell_index": 25
      }
     ]
    },
    "5f2ca4ccb8a8469081378b795b29bca8": {
     "views": [
      {
       "cell_index": 25
      }
     ]
    },
    "5f5e39217a174b259a74c07fa9fe3843": {
     "views": [
      {
       "cell_index": 25
      }
     ]
    },
    "5f6f3bc9ed0641acbe0491929e082f79": {
     "views": [
      {
       "cell_index": 25
      }
     ]
    },
    "60ba7453d02740a49159cf00d1edc347": {
     "views": [
      {
       "cell_index": 24
      }
     ]
    },
    "61f2b820852146dc822b25e780cce34f": {
     "views": [
      {
       "cell_index": 25
      }
     ]
    },
    "63b38ff20bb442c6a49061cdde702df0": {
     "views": [
      {
       "cell_index": 25
      }
     ]
    },
    "63feb24a46f84a8f9a0766fa129c3659": {
     "views": [
      {
       "cell_index": 25
      }
     ]
    },
    "65ddfd15657c483aadb7fd68ef058e2c": {
     "views": [
      {
       "cell_index": 25
      }
     ]
    },
    "67035e9c07b3457b9d5ae4d844f54ce4": {
     "views": [
      {
       "cell_index": 25
      }
     ]
    },
    "672e6cfafcd944278d440afa69eae555": {
     "views": [
      {
       "cell_index": 23
      }
     ]
    },
    "67a22c87e7f244d39793b61e023abd22": {
     "views": [
      {
       "cell_index": 23
      }
     ]
    },
    "682102f03f444627ae949992057bac9c": {
     "views": [
      {
       "cell_index": 25
      }
     ]
    },
    "6937c00770f14e3493da822e9d50712e": {
     "views": [
      {
       "cell_index": 25
      }
     ]
    },
    "6966f95576b64d79bdca7c5adc013b5b": {
     "views": [
      {
       "cell_index": 25
      }
     ]
    },
    "6a09ec10edf94d2fa877c09a8074cccb": {
     "views": [
      {
       "cell_index": 25
      }
     ]
    },
    "6a6eb180ac5342499870a2e770609650": {
     "views": [
      {
       "cell_index": 25
      }
     ]
    },
    "6ac05280a71d4fa18c0f245203ca4574": {
     "views": [
      {
       "cell_index": 25
      }
     ]
    },
    "6b1cbdff6c2f4a59bf888d7e8322afc6": {
     "views": [
      {
       "cell_index": 25
      }
     ]
    },
    "6b8653f19c154192963d91c557d9503a": {
     "views": [
      {
       "cell_index": 25
      }
     ]
    },
    "6bce88fa6b5d4acfb6c8c7dcb54cb2a8": {
     "views": [
      {
       "cell_index": 24
      }
     ]
    },
    "6be1e34951a649f4bd624d3b994f52ee": {
     "views": [
      {
       "cell_index": 25
      }
     ]
    },
    "6d5a38e051b441c2834a7258b2fda393": {
     "views": [
      {
       "cell_index": 25
      }
     ]
    },
    "6d5c303c944d4ac8bc584fc0a8549812": {
     "views": [
      {
       "cell_index": 25
      }
     ]
    },
    "6ec8cbdb5c734f878b146bb9a5ebbcdc": {
     "views": [
      {
       "cell_index": 25
      }
     ]
    },
    "6f0cb2544d264a31830bdabee404486b": {
     "views": [
      {
       "cell_index": 25
      }
     ]
    },
    "6f8450f95434499f9f46b26c9a16abd9": {
     "views": [
      {
       "cell_index": 25
      }
     ]
    },
    "6fb9f4c718474c87a59647984079f20b": {
     "views": [
      {
       "cell_index": 25
      }
     ]
    },
    "6fc0e9e8046f439ebf45ddbbd786e5c7": {
     "views": [
      {
       "cell_index": 23
      }
     ]
    },
    "6fc4a3fcc2b744cb8760473b14112cb8": {
     "views": [
      {
       "cell_index": 19
      }
     ]
    },
    "700c87b124614089955d07f4c64cc324": {
     "views": [
      {
       "cell_index": 23
      }
     ]
    },
    "70136194a91a4ce4b00f73a006681224": {
     "views": [
      {
       "cell_index": 25
      }
     ]
    },
    "7072a774b37543a4bccccddb6d7b5b07": {
     "views": [
      {
       "cell_index": 25
      }
     ]
    },
    "70face33749b4e3dac5755640de26849": {
     "views": [
      {
       "cell_index": 25
      }
     ]
    },
    "710d3bfee5f24a56862cb6a4170b8284": {
     "views": [
      {
       "cell_index": 25
      }
     ]
    },
    "720ff9e6f0f44d5190b6e782f2354564": {
     "views": [
      {
       "cell_index": 25
      }
     ]
    },
    "72b9dd17653f466ab543237b5c5dc20d": {
     "views": [
      {
       "cell_index": 24
      }
     ]
    },
    "747aa31dc48d48a8a8b8b8f177b98edb": {
     "views": [
      {
       "cell_index": 24
      }
     ]
    },
    "762d76e31448486ea48016d6238d9d12": {
     "views": [
      {
       "cell_index": 25
      }
     ]
    },
    "7813e7c3fb8d48db99059173090e3503": {
     "views": [
      {
       "cell_index": 25
      }
     ]
    },
    "7883caf572604d89b71eac7a303055c3": {
     "views": [
      {
       "cell_index": 25
      }
     ]
    },
    "78f0f7115cf7475480e714e44f3b5f0d": {
     "views": [
      {
       "cell_index": 23
      }
     ]
    },
    "791dfcedb9ac422f983285401baff3e9": {
     "views": [
      {
       "cell_index": 24
      }
     ]
    },
    "7989f45da67740bfbfa4513d0d9d7cd5": {
     "views": [
      {
       "cell_index": 25
      }
     ]
    },
    "798df13992e44eb9983654d55108a440": {
     "views": [
      {
       "cell_index": 23
      }
     ]
    },
    "7ad62de78fd047298131714cf51516f1": {
     "views": [
      {
       "cell_index": 25
      }
     ]
    },
    "7af76c16e33c43ab9880a7aea69b0e66": {
     "views": [
      {
       "cell_index": 25
      }
     ]
    },
    "7b2ec49388be4e85b34261537223beea": {
     "views": [
      {
       "cell_index": 25
      }
     ]
    },
    "7b7616578fbc43319e2b72bba77dd562": {
     "views": [
      {
       "cell_index": 25
      }
     ]
    },
    "7c114b5caf1442a78fe5f0074bfd3aec": {
     "views": [
      {
       "cell_index": 25
      }
     ]
    },
    "7cd9a44a09764bd8aaeeeddc06ace07c": {
     "views": [
      {
       "cell_index": 25
      }
     ]
    },
    "7d5472bed70241fcb93089dcad15a251": {
     "views": [
      {
       "cell_index": 25
      }
     ]
    },
    "7d98796d13ea461c9ebed6b97affc307": {
     "views": [
      {
       "cell_index": 24
      }
     ]
    },
    "7e14c30a515b46e9b1079e9ead9e33e7": {
     "views": [
      {
       "cell_index": 25
      }
     ]
    },
    "7ef86afeb4b74dc2a6f89b0bc338efe7": {
     "views": [
      {
       "cell_index": 25
      }
     ]
    },
    "7f8e5edbf34340d0b1bb0ddce469e7a9": {
     "views": [
      {
       "cell_index": 25
      }
     ]
    },
    "80c6459e71164e13b0aadec540c98174": {
     "views": [
      {
       "cell_index": 25
      }
     ]
    },
    "80ca3095f619459b8495c3259f120251": {
     "views": [
      {
       "cell_index": 25
      }
     ]
    },
    "81aa1afe5094428baece27f139c02037": {
     "views": [
      {
       "cell_index": 25
      }
     ]
    },
    "827d2ef528c24dd3a6f288c86365a266": {
     "views": [
      {
       "cell_index": 25
      }
     ]
    },
    "840411de21a04fe0ab2b05fc0ffc56e4": {
     "views": [
      {
       "cell_index": 25
      }
     ]
    },
    "84897213179f4fefa7584876b4869ca1": {
     "views": [
      {
       "cell_index": 25
      }
     ]
    },
    "84dba28c0d9c4aeab2047141b0945271": {
     "views": [
      {
       "cell_index": 24
      }
     ]
    },
    "85173db7765e4931ab52a2dc835a4526": {
     "views": [
      {
       "cell_index": 24
      }
     ]
    },
    "85c5cd302b514e9a99b19da9054ab3d7": {
     "views": [
      {
       "cell_index": 24
      }
     ]
    },
    "860bc2b6c50044e493b8c872b06bf00b": {
     "views": [
      {
       "cell_index": 25
      }
     ]
    },
    "87aa6b415444469188a8217cde44c219": {
     "views": [
      {
       "cell_index": 25
      }
     ]
    },
    "87d1386b86454d5980a6c0bf067bd6d1": {
     "views": [
      {
       "cell_index": 24
      }
     ]
    },
    "887a7b0caab74226bbafad457e20bdb6": {
     "views": [
      {
       "cell_index": 23
      }
     ]
    },
    "894f9f2d9200403498697310c0df675d": {
     "views": [
      {
       "cell_index": 25
      }
     ]
    },
    "89b3bf182a094bc990a2fed12dd7304f": {
     "views": [
      {
       "cell_index": 25
      }
     ]
    },
    "8a562f89ff414f27864b7d5ca255c01f": {
     "views": [
      {
       "cell_index": 25
      }
     ]
    },
    "8a7b15272636495d826a49c739bbdf07": {
     "views": [
      {
       "cell_index": 25
      }
     ]
    },
    "8c247b9f817643e3a28413d2878dd5fb": {
     "views": [
      {
       "cell_index": 25
      }
     ]
    },
    "8d0e1dd17d2b444491e07a940003c7ad": {
     "views": [
      {
       "cell_index": 25
      }
     ]
    },
    "8d261f2bfae74cd4a60d3ffd0c9b9374": {
     "views": [
      {
       "cell_index": 23
      }
     ]
    },
    "8d4646e0eea74f418a41ddf2a933ef79": {
     "views": [
      {
       "cell_index": 25
      }
     ]
    },
    "8db3ba29daef4e0891f09bd82457f380": {
     "views": [
      {
       "cell_index": 24
      }
     ]
    },
    "8deeb6d74c354313b8af7d481262902f": {
     "views": [
      {
       "cell_index": 24
      }
     ]
    },
    "8e293b3fed0d421886fd9216c16b1315": {
     "views": [
      {
       "cell_index": 25
      }
     ]
    },
    "8e9ed582380a423b8609c0ec9b286e3e": {
     "views": [
      {
       "cell_index": 23
      }
     ]
    },
    "8f3ab00762fe4af4a73c514987ad3f23": {
     "views": [
      {
       "cell_index": 25
      }
     ]
    },
    "90a831b9e2c647e68e17a9386a138b4f": {
     "views": [
      {
       "cell_index": 23
      }
     ]
    },
    "915f70b03393419bb5986911f2d44f63": {
     "views": [
      {
       "cell_index": 25
      }
     ]
    },
    "918468c239624be0b3251cc4564aab51": {
     "views": [
      {
       "cell_index": 25
      }
     ]
    },
    "9195ce6a17014ecbb9a9e2738bf656ec": {
     "views": [
      {
       "cell_index": 25
      }
     ]
    },
    "919b50ab6d6f4dee8b58031cd51a8329": {
     "views": [
      {
       "cell_index": 25
      }
     ]
    },
    "91d72b276f084e1097a22db7e2b0126e": {
     "views": [
      {
       "cell_index": 24
      }
     ]
    },
    "935838d08f1e44109579e1c5eb37d2bb": {
     "views": [
      {
       "cell_index": 25
      }
     ]
    },
    "946ef0d9dd764e429aec3af03c3e738d": {
     "views": [
      {
       "cell_index": 25
      }
     ]
    },
    "9473767c77b94e7b92cceef3475108a8": {
     "views": [
      {
       "cell_index": 25
      }
     ]
    },
    "94c5af11c96a42eaa192c94c0ebef83a": {
     "views": [
      {
       "cell_index": 25
      }
     ]
    },
    "956e5971b4b54e0d86c603bbf2087a01": {
     "views": [
      {
       "cell_index": 25
      }
     ]
    },
    "957606f1d15c477687acca8115202174": {
     "views": [
      {
       "cell_index": 24
      }
     ]
    },
    "95a5eab58c3a4423808aafe6fc6a2aec": {
     "views": [
      {
       "cell_index": 23
      }
     ]
    },
    "96fa9ebdf7564aa183cbaed7eb182441": {
     "views": [
      {
       "cell_index": 25
      }
     ]
    },
    "96fac880505443d39a7ecd0a2835f6c3": {
     "views": [
      {
       "cell_index": 24
      }
     ]
    },
    "97d2ece8e800447984d6fd75092aab70": {
     "views": [
      {
       "cell_index": 25
      }
     ]
    },
    "97dc5b060f334119b4f540aea266c16b": {
     "views": [
      {
       "cell_index": 25
      }
     ]
    },
    "98671f8d5ad946f6a18ef02c71ad081f": {
     "views": [
      {
       "cell_index": 23
      }
     ]
    },
    "9883c2f869cd4959a3e924de9842b8b7": {
     "views": [
      {
       "cell_index": 24
      }
     ]
    },
    "99ed610dd4df4a06a4a5946537b60de7": {
     "views": [
      {
       "cell_index": 25
      }
     ]
    },
    "9a173cbfd9a44b44832c3e9fa5fda5bb": {
     "views": [
      {
       "cell_index": 25
      }
     ]
    },
    "9d8ddc1f82934eee8b84f42bf80a04dc": {
     "views": [
      {
       "cell_index": 24
      }
     ]
    },
    "9ebf9775adb34b5c9ddf30df627bfdb6": {
     "views": [
      {
       "cell_index": 25
      }
     ]
    },
    "a056be3453244d2fb1759320c6b75e41": {
     "views": [
      {
       "cell_index": 25
      }
     ]
    },
    "a0cf69d824904226ba3b841c361ac2d3": {
     "views": [
      {
       "cell_index": 25
      }
     ]
    },
    "a109448990e64435a98f8046f1c0281d": {
     "views": [
      {
       "cell_index": 25
      }
     ]
    },
    "a211305d2714496ab418df9e1f2d366e": {
     "views": [
      {
       "cell_index": 24
      }
     ]
    },
    "a2d74584699945b9b566ae5d580919aa": {
     "views": [
      {
       "cell_index": 25
      }
     ]
    },
    "a2e5bf3d5d6d42038c299d61175dd3ea": {
     "views": [
      {
       "cell_index": 25
      }
     ]
    },
    "a38640a7701442168e440a7893d6c357": {
     "views": [
      {
       "cell_index": 25
      }
     ]
    },
    "a39fb1b47c9447eaaa9a0f6c3586a3de": {
     "views": [
      {
       "cell_index": 25
      }
     ]
    },
    "a3b3513df3a0418b87b8e0a56c3a8462": {
     "views": [
      {
       "cell_index": 25
      }
     ]
    },
    "a4199d2d7c4141e0b8519d8c093ad5b4": {
     "views": [
      {
       "cell_index": 24
      }
     ]
    },
    "a4504cbf000742f78b7f998793a4024d": {
     "views": [
      {
       "cell_index": 23
      }
     ]
    },
    "a585872bd621417cad2e84da56021955": {
     "views": [
      {
       "cell_index": 25
      }
     ]
    },
    "a6e4f71644e74aa09f99ff17f8e7e77d": {
     "views": [
      {
       "cell_index": 24
      }
     ]
    },
    "a74d36ae93c24af5bba08feaaf37a053": {
     "views": [
      {
       "cell_index": 25
      }
     ]
    },
    "a817481303cf414b99f785d63ec13129": {
     "views": [
      {
       "cell_index": 24
      }
     ]
    },
    "a8c58a62f8ee49fa81446bb016612937": {
     "views": [
      {
       "cell_index": 24
      }
     ]
    },
    "a8dd64768f93464fb0fb9d3af9bfa0ff": {
     "views": [
      {
       "cell_index": 25
      }
     ]
    },
    "aa7f98786008409384f7157ac53f7dba": {
     "views": [
      {
       "cell_index": 19
      }
     ]
    },
    "aab8ef64d9c24e2f907237d2311f1688": {
     "views": [
      {
       "cell_index": 25
      }
     ]
    },
    "ab2fd946f7014322a006b0eb4191cd0f": {
     "views": [
      {
       "cell_index": 23
      }
     ]
    },
    "ac16d5788d4a43818ebb004017abfa94": {
     "views": [
      {
       "cell_index": 23
      }
     ]
    },
    "adb71b2a49294301a82d62d354008f2e": {
     "views": [
      {
       "cell_index": 25
      }
     ]
    },
    "ae370727b43e4bc8bef5170d7bafbfdd": {
     "views": [
      {
       "cell_index": 23
      }
     ]
    },
    "ae9dad9bc8af48c89da1ee51e40bdfb8": {
     "views": [
      {
       "cell_index": 25
      }
     ]
    },
    "af6bf7bf74cc4ecd93e847f18e808e43": {
     "views": [
      {
       "cell_index": 25
      }
     ]
    },
    "af88d9be7c0d47579996280d2a309016": {
     "views": [
      {
       "cell_index": 25
      }
     ]
    },
    "afe412ff4fab46318be6bfdd1517c57b": {
     "views": [
      {
       "cell_index": 24
      }
     ]
    },
    "b0c54c582cde4feb99c7b3c3ca5443f5": {
     "views": [
      {
       "cell_index": 25
      }
     ]
    },
    "b10744ed7cf54bc4a085f6a11c06a2d9": {
     "views": [
      {
       "cell_index": 25
      }
     ]
    },
    "b31001a839f44a9898a018cfb0dfc769": {
     "views": [
      {
       "cell_index": 19
      }
     ]
    },
    "b31e8418db4e45ceaf9c35bb5c63ca6b": {
     "views": [
      {
       "cell_index": 19
      }
     ]
    },
    "b38f014d30c847988335645f0295ef8e": {
     "views": [
      {
       "cell_index": 25
      }
     ]
    },
    "b3e92b1368db4bb6abc84531205bd1ca": {
     "views": [
      {
       "cell_index": 25
      }
     ]
    },
    "b4151863caff4d7e867c1f6acaf01dce": {
     "views": [
      {
       "cell_index": 25
      }
     ]
    },
    "b6066ba5613c4fc2bfecec121367b77f": {
     "views": [
      {
       "cell_index": 25
      }
     ]
    },
    "b6163e8d77fe4b6889b36f8d1060e083": {
     "views": [
      {
       "cell_index": 25
      }
     ]
    },
    "b6a2bee4fa274c9aa183b159c3c452dc": {
     "views": [
      {
       "cell_index": 25
      }
     ]
    },
    "b84f214150b04dc28e7e6375bb0dd3eb": {
     "views": [
      {
       "cell_index": 25
      }
     ]
    },
    "b8ee6b5c09c045298d32150d5140c79d": {
     "views": [
      {
       "cell_index": 23
      }
     ]
    },
    "b9213d2afa9144fdaa112b48ffc099aa": {
     "views": [
      {
       "cell_index": 25
      }
     ]
    },
    "b9424340732741e4aa4dfe2b851fb020": {
     "views": [
      {
       "cell_index": 25
      }
     ]
    },
    "b968041b015a4080b36f710e44fa7721": {
     "views": [
      {
       "cell_index": 25
      }
     ]
    },
    "ba261be3f6e641a5b742e50786634b7b": {
     "views": [
      {
       "cell_index": 25
      }
     ]
    },
    "baf10633c248455cb4c4de196d916c96": {
     "views": [
      {
       "cell_index": 25
      }
     ]
    },
    "bb0738af8c2a4e66ab666cbd857635a7": {
     "views": [
      {
       "cell_index": 24
      }
     ]
    },
    "bbff4b46403a4508979a7f33b6167e77": {
     "views": [
      {
       "cell_index": 25
      }
     ]
    },
    "bc26d9258a5e42acada45fe714874e1c": {
     "views": [
      {
       "cell_index": 25
      }
     ]
    },
    "bc848799b6b24379afd8e61a5a8d8689": {
     "views": [
      {
       "cell_index": 25
      }
     ]
    },
    "bce614aa6f8e4eb799aceb64c044ef7f": {
     "views": [
      {
       "cell_index": 25
      }
     ]
    },
    "bdcd797a185b444fa5382852229230eb": {
     "views": [
      {
       "cell_index": 24
      }
     ]
    },
    "be2cee8099e94f2eae9c510fbb273a05": {
     "views": [
      {
       "cell_index": 23
      }
     ]
    },
    "bf2070353eac4ea683a602a701618e4e": {
     "views": [
      {
       "cell_index": 25
      }
     ]
    },
    "c05ef8f6db164f72872f39f1e5e37f56": {
     "views": [
      {
       "cell_index": 23
      }
     ]
    },
    "c13c8e61fa454197811c72eec5a7b0dd": {
     "views": [
      {
       "cell_index": 23
      }
     ]
    },
    "c1630bd691294297a522568d30521356": {
     "views": [
      {
       "cell_index": 25
      }
     ]
    },
    "c2473172d7fe43c685c18738bf83b491": {
     "views": [
      {
       "cell_index": 25
      }
     ]
    },
    "c3642dc8496146f4ab9768bd74761357": {
     "views": [
      {
       "cell_index": 23
      }
     ]
    },
    "c46a4464b3c94baaafb3292c2e054183": {
     "views": [
      {
       "cell_index": 25
      }
     ]
    },
    "c558bc6349dc4866bf08d6d00c699a4e": {
     "views": [
      {
       "cell_index": 25
      }
     ]
    },
    "c563c6352f9546518c55c2f25dd57bc7": {
     "views": [
      {
       "cell_index": 23
      }
     ]
    },
    "c576657ea95f464aa10c3174e4ec4d48": {
     "views": [
      {
       "cell_index": 25
      }
     ]
    },
    "c5dede84ce2b412e82f7312427e1f015": {
     "views": [
      {
       "cell_index": 25
      }
     ]
    },
    "c696efb16d864619b603dd9b03975aa3": {
     "views": [
      {
       "cell_index": 25
      }
     ]
    },
    "c6b842de467a40ffa6763ae5e7668c02": {
     "views": [
      {
       "cell_index": 25
      }
     ]
    },
    "c70f287c287a42b4b0f583f3dbc75eca": {
     "views": [
      {
       "cell_index": 24
      }
     ]
    },
    "c7d25bca7c1d4587840632da999348fa": {
     "views": [
      {
       "cell_index": 24
      }
     ]
    },
    "c8bb39ef38dd4d5fabec34aad800a46f": {
     "views": [
      {
       "cell_index": 25
      }
     ]
    },
    "c9d577d345914a05a7d5064f8d2eafd5": {
     "views": [
      {
       "cell_index": 25
      }
     ]
    },
    "ca193d54dce34460996e51e386858725": {
     "views": [
      {
       "cell_index": 25
      }
     ]
    },
    "cadae9ddb6e945449aac62578ae20e47": {
     "views": [
      {
       "cell_index": 23
      }
     ]
    },
    "cae4e4d9c9e3428e8e6ff15005db7baf": {
     "views": [
      {
       "cell_index": 24
      }
     ]
    },
    "cb2d0c687c764f1d8118a3cd70b71e8c": {
     "views": [
      {
       "cell_index": 25
      }
     ]
    },
    "cbaca679255349efb44e44972be31e20": {
     "views": [
      {
       "cell_index": 25
      }
     ]
    },
    "cbcef96114c84b10a749760712ca8acd": {
     "views": [
      {
       "cell_index": 23
      }
     ]
    },
    "cd01b7903ab64d6e913fc31419394193": {
     "views": [
      {
       "cell_index": 24
      }
     ]
    },
    "cd54eb215a5c4398bd826434e3f6d244": {
     "views": [
      {
       "cell_index": 25
      }
     ]
    },
    "cd5863e0d3d8403ea1a81a9b58648799": {
     "views": [
      {
       "cell_index": 25
      }
     ]
    },
    "cdb15d75cead42fc9db6104f11519289": {
     "views": [
      {
       "cell_index": 25
      }
     ]
    },
    "cdc7467da39d4c469228851844241a5a": {
     "views": [
      {
       "cell_index": 25
      }
     ]
    },
    "cdf0fe2f4e3c4025ba06ecb4d8fa1161": {
     "views": [
      {
       "cell_index": 25
      }
     ]
    },
    "d1df924868294513b3279aeb6bf93e8c": {
     "views": [
      {
       "cell_index": 25
      }
     ]
    },
    "d2b0d23a83e946f1a0da89486f654f4d": {
     "views": [
      {
       "cell_index": 24
      }
     ]
    },
    "d2ccd30dfe4f41b9889773068e74e3e9": {
     "views": [
      {
       "cell_index": 25
      }
     ]
    },
    "d3747e3797384a76be0553d90cf29104": {
     "views": [
      {
       "cell_index": 25
      }
     ]
    },
    "d5244f94f4a24c0e8c5ab93a03a42c6e": {
     "views": [
      {
       "cell_index": 23
      }
     ]
    },
    "d60aaeca02524e67ab1d66c5a82e3f3c": {
     "views": [
      {
       "cell_index": 24
      }
     ]
    },
    "d6bfd2068a6b4684b963eb7ace152ad6": {
     "views": [
      {
       "cell_index": 25
      }
     ]
    },
    "d6d355a2241c431ebf00ea0a6a437bce": {
     "views": [
      {
       "cell_index": 24
      }
     ]
    },
    "d7fa0ae7f2454487a56cf0a0e15194a5": {
     "views": [
      {
       "cell_index": 25
      }
     ]
    },
    "d8e537003e34476ab67c2295fbdb4bdd": {
     "views": [
      {
       "cell_index": 25
      }
     ]
    },
    "d9106935d7234d6cbd63749d2323bbe0": {
     "views": [
      {
       "cell_index": 25
      }
     ]
    },
    "d97ce29fee1e4361be6598cc0e186524": {
     "views": [
      {
       "cell_index": 25
      }
     ]
    },
    "da1a8be01c01487a8bc81626a655a766": {
     "views": [
      {
       "cell_index": 23
      }
     ]
    },
    "da90fd842fb74131ac52a053f70a12bd": {
     "views": [
      {
       "cell_index": 25
      }
     ]
    },
    "daaf6adb40464f41bf470157c3eded3c": {
     "views": [
      {
       "cell_index": 23
      }
     ]
    },
    "dabc56fb001e4b89b839d427c0fc4b2c": {
     "views": [
      {
       "cell_index": 25
      }
     ]
    },
    "dda3fbd09b974931924fb2d7114e69f5": {
     "views": [
      {
       "cell_index": 24
      }
     ]
    },
    "df28b4d76e394b80831e84a1d2ba1285": {
     "views": [
      {
       "cell_index": 25
      }
     ]
    },
    "df416a668ef14be7b2e035eebbd14b25": {
     "views": [
      {
       "cell_index": 24
      }
     ]
    },
    "dfe432e883cd4bc39bbbd571b049b792": {
     "views": [
      {
       "cell_index": 25
      }
     ]
    },
    "dffd08691cf94c67b1741684e497c431": {
     "views": [
      {
       "cell_index": 24
      }
     ]
    },
    "e0ecade3ff49446d9f1ebd90efb0e582": {
     "views": [
      {
       "cell_index": 25
      }
     ]
    },
    "e0f1befe6d1d42d0801631a8984180b6": {
     "views": [
      {
       "cell_index": 25
      }
     ]
    },
    "e283005e9c854d13b86325c9f8cb91c4": {
     "views": [
      {
       "cell_index": 25
      }
     ]
    },
    "e311f6b1a09c47e9ae7cb9603d99c9f3": {
     "views": [
      {
       "cell_index": 25
      }
     ]
    },
    "e315d76129e4451e87b4378f7d918bed": {
     "views": [
      {
       "cell_index": 25
      }
     ]
    },
    "e3a3e596f280451a84333ad178011272": {
     "views": [
      {
       "cell_index": 25
      }
     ]
    },
    "e42f15d0a27a4042b87fb6db0e836af1": {
     "views": [
      {
       "cell_index": 24
      }
     ]
    },
    "e45d03ac09d54835a9efb4773f40ab8d": {
     "views": [
      {
       "cell_index": 25
      }
     ]
    },
    "e4dd519c059d4470a651e9c2116e3344": {
     "views": [
      {
       "cell_index": 24
      }
     ]
    },
    "e51905bdb6674120bb56fd43ae406c82": {
     "views": [
      {
       "cell_index": 24
      }
     ]
    },
    "e59bd212e4eb4a81b9b5d08ba680963a": {
     "views": [
      {
       "cell_index": 23
      }
     ]
    },
    "e5a6bf67e5054008b6bf1f5692f1c3e2": {
     "views": [
      {
       "cell_index": 24
      }
     ]
    },
    "e5d0708af5924a0b8546e929b6142e0f": {
     "views": [
      {
       "cell_index": 25
      }
     ]
    },
    "e5e153b13deb426296df28ed80d142d1": {
     "views": [
      {
       "cell_index": 24
      }
     ]
    },
    "e63a7d4f62164c2a90c9dd3414959c41": {
     "views": [
      {
       "cell_index": 25
      }
     ]
    },
    "e6d2a659002744668e63bde14e51f92d": {
     "views": [
      {
       "cell_index": 23
      }
     ]
    },
    "e730aa72953b41e49da935e79edd222a": {
     "views": [
      {
       "cell_index": 25
      }
     ]
    },
    "e79200fabb774003a1045ce691494ef1": {
     "views": [
      {
       "cell_index": 24
      }
     ]
    },
    "e7c66813ed9a461eb3b34672c63b75a1": {
     "views": [
      {
       "cell_index": 25
      }
     ]
    },
    "e81fabe6ee0f4c2195753a11ae7a4e87": {
     "views": [
      {
       "cell_index": 25
      }
     ]
    },
    "e9a948c2e040456bac5a0e455e2c744d": {
     "views": [
      {
       "cell_index": 23
      }
     ]
    },
    "ec1c2eddb674472fa96b82cbcea19648": {
     "views": [
      {
       "cell_index": 25
      }
     ]
    },
    "ec62b2849f504f1eb1fe9ea324c8a2e8": {
     "views": [
      {
       "cell_index": 25
      }
     ]
    },
    "edac0b9c14d349559fa4fc40a8f6a144": {
     "views": [
      {
       "cell_index": 24
      }
     ]
    },
    "edcfd5ffeaa7467895673c61cc86ecf1": {
     "views": [
      {
       "cell_index": 25
      }
     ]
    },
    "ee5548a5062d490bb00956845b76dea6": {
     "views": [
      {
       "cell_index": 25
      }
     ]
    },
    "eeda2e769b2641d09c8f458db6b5d8f3": {
     "views": [
      {
       "cell_index": 25
      }
     ]
    },
    "ef131613b3e14ad6be2916b3a21aa735": {
     "views": [
      {
       "cell_index": 25
      }
     ]
    },
    "f1b3c90a80e94f3089e744205043edce": {
     "views": [
      {
       "cell_index": 23
      }
     ]
    },
    "f35f7aeeaea440a9b5554870289b7748": {
     "views": [
      {
       "cell_index": 24
      }
     ]
    },
    "f3ab6832c0a94b0ead3060238d1ad9b3": {
     "views": [
      {
       "cell_index": 24
      }
     ]
    },
    "f3e1f2f7e59d407ebc9e3dc66bec7a80": {
     "views": [
      {
       "cell_index": 25
      }
     ]
    },
    "f50c51e0b0a34093acc36c4a838a4e8e": {
     "views": [
      {
       "cell_index": 25
      }
     ]
    },
    "f6087fed10c94bd39b5e0ffd01648dfd": {
     "views": [
      {
       "cell_index": 25
      }
     ]
    },
    "f637553a830e44e1bb9e19b5d2cf812a": {
     "views": [
      {
       "cell_index": 25
      }
     ]
    },
    "f80ccf2461c248be8108fd9781e6d095": {
     "views": [
      {
       "cell_index": 25
      }
     ]
    },
    "f822a58df649493ca9e8b416393ed07c": {
     "views": [
      {
       "cell_index": 25
      }
     ]
    },
    "f8319da3f3934464822e65c736efac71": {
     "views": [
      {
       "cell_index": 19
      }
     ]
    },
    "f8af4e85ad7d4f9699bb2e7af9c5b16e": {
     "views": [
      {
       "cell_index": 24
      }
     ]
    },
    "f94ee8a1b2aa48f3aceeed5ab2da2933": {
     "views": [
      {
       "cell_index": 23
      }
     ]
    },
    "fa0975637a0c4416bf20ca1117cf0113": {
     "views": [
      {
       "cell_index": 23
      }
     ]
    },
    "fa15dd692e9846ecb5b163e68b38159f": {
     "views": [
      {
       "cell_index": 25
      }
     ]
    },
    "fa7b6cda398f483f808868e90571fe9b": {
     "views": [
      {
       "cell_index": 24
      }
     ]
    },
    "fb45ee056d6849a1b6927cd7b711fab5": {
     "views": [
      {
       "cell_index": 25
      }
     ]
    },
    "fb54e9b5171f4880a1332edacb1d9124": {
     "views": [
      {
       "cell_index": 25
      }
     ]
    },
    "fbeb21f6a3b44377a010b6a7bfbafc5b": {
     "views": [
      {
       "cell_index": 25
      }
     ]
    },
    "fbf054555508422cabcef6799e734852": {
     "views": [
      {
       "cell_index": 25
      }
     ]
    },
    "fc33f87897fb4b5ebb97feb5336eae55": {
     "views": [
      {
       "cell_index": 25
      }
     ]
    },
    "fda453752c2b42ff9e5479a71229b4e3": {
     "views": [
      {
       "cell_index": 25
      }
     ]
    },
    "febdb9343c864ff7accd374b948059a3": {
     "views": [
      {
       "cell_index": 24
      }
     ]
    }
   },
   "version": "1.2.0"
  }
 },
 "nbformat": 4,
 "nbformat_minor": 2
}
