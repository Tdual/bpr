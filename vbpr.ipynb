{
 "cells": [
  {
   "cell_type": "markdown",
   "metadata": {},
   "source": [
    "data from http://jmcauley.ucsd.edu/data/tradesy/\n",
    "```\n",
    "wget http://jmcauley.ucsd.edu/data/tradesy/tradesy.json.gz\n",
    "wget http://jmcauley.ucsd.edu/data/tradesy/tradesy_item_urls.json.gz\n",
    "```\n"
   ]
  },
  {
   "cell_type": "code",
   "execution_count": 1,
   "metadata": {},
   "outputs": [
    {
     "name": "stdout",
     "output_type": "stream",
     "text": [
      "notebook\n"
     ]
    }
   ],
   "source": [
    "import gzip\n",
    "import numpy as np\n",
    "import tensorflow as tf\n",
    "from collections import defaultdict\n",
    "import gensim as gs\n",
    "try:\n",
    "    # noinspection PyUnresolvedReferences\n",
    "    if get_ipython().__class__.__name__ == 'ZMQInteractiveShell':\n",
    "        print(\"notebook\")\n",
    "        from tqdm import tqdm#_notebook as tqdm\n",
    "    else:\n",
    "        raise RuntimeError\n",
    "except (NameError, RuntimeError):\n",
    "    from tqdm import tqdm"
   ]
  },
  {
   "cell_type": "code",
   "execution_count": 2,
   "metadata": {},
   "outputs": [],
   "source": [
    "userData = eval(gzip.open(\"./tradesy.json.gz\", 'r').read())"
   ]
  },
  {
   "cell_type": "code",
   "execution_count": 3,
   "metadata": {},
   "outputs": [
    {
     "data": {
      "text/plain": [
       "128152"
      ]
     },
     "execution_count": 3,
     "metadata": {},
     "output_type": "execute_result"
    }
   ],
   "source": [
    "len(userData)"
   ]
  },
  {
   "cell_type": "code",
   "execution_count": 4,
   "metadata": {},
   "outputs": [
    {
     "data": {
      "text/plain": [
       "{'lists': {'bought': [], 'selling': [], 'sold': ['3', '2'], 'want': []},\n",
       " 'uid': '1'}"
      ]
     },
     "execution_count": 4,
     "metadata": {},
     "output_type": "execute_result"
    }
   ],
   "source": [
    "userData[0]"
   ]
  },
  {
   "cell_type": "code",
   "execution_count": null,
   "metadata": {},
   "outputs": [],
   "source": []
  },
  {
   "cell_type": "code",
   "execution_count": 5,
   "metadata": {},
   "outputs": [],
   "source": [
    "import struct\n",
    "\n",
    "def readImageFeatures(path):\n",
    "    f = open(path, 'rb')\n",
    "    while True:\n",
    "        userId = f.read(10)\n",
    "        userId = userId.strip()\n",
    "        if userId == '': break\n",
    "        feature = []\n",
    "        for i in range(4096):\n",
    "            feature.append(struct.unpack('f', f.read(4)))\n",
    "        yield asin, feature"
   ]
  },
  {
   "cell_type": "code",
   "execution_count": null,
   "metadata": {},
   "outputs": [],
   "source": []
  },
  {
   "cell_type": "code",
   "execution_count": 6,
   "metadata": {},
   "outputs": [],
   "source": [
    "data = {}\n",
    "max_uid = -1\n",
    "max_iid = -1\n",
    "for d in userData:\n",
    "    if len(d[\"lists\"][\"bought\"]) > 50:\n",
    "        data[d[\"uid\"]] = d[\"lists\"][\"bought\"]\n",
    "        max_iid = max(max_iid,max([int(itm) for itm in d[\"lists\"][\"bought\"]]))\n",
    "    max_uid = max(max_uid, int(d[\"uid\"]))"
   ]
  },
  {
   "cell_type": "code",
   "execution_count": 7,
   "metadata": {},
   "outputs": [
    {
     "name": "stdout",
     "output_type": "stream",
     "text": [
      "max uid:  2038305\n",
      "max iid:  1579039\n"
     ]
    }
   ],
   "source": [
    "print(\"max uid: \", max_uid)\n",
    "print(\"max iid: \", max_iid)\n",
    "item_count = max_iid\n",
    "user_count = max_uid"
   ]
  },
  {
   "cell_type": "code",
   "execution_count": 8,
   "metadata": {},
   "outputs": [],
   "source": [
    "def load_data(data_path):\n",
    "    data = defaultdict(set)\n",
    "    max_u_id = -1\n",
    "    max_i_id = -1\n",
    "    with open(data_path, 'r') as f:\n",
    "        f.readline()\n",
    "        for idx, line in enumerate(f):\n",
    "            u, i, _, _ = line.split(\",\")\n",
    "            u = int(u)\n",
    "            i = int(i)\n",
    "            data[u].add(i)\n",
    "            max_u_id = max(u, max_u_id)\n",
    "            max_i_id = max(i, max_i_id)\n",
    "            if idx == 1000:\n",
    "                break\n",
    "    return max_u_id, max_i_id, data"
   ]
  },
  {
   "cell_type": "code",
   "execution_count": 9,
   "metadata": {},
   "outputs": [],
   "source": [
    "def map_data(data_path):\n",
    "    line_list =[]\n",
    "    user_list = []\n",
    "    item_dic = {}\n",
    "    few_buyers =[]\n",
    "    data = defaultdict(set)\n",
    "    with open(data_path, 'r') as f:\n",
    "        for idx, line in enumerate(f):\n",
    "            line = line[:-1] # remove \\n\n",
    "            l = line.split(\",\")\n",
    "            user_id = l[0]\n",
    "            items = l[1:]\n",
    "            user_list.append(user_id)\n",
    "            line_list.append(items)\n",
    "    dictionary = gs.corpora.Dictionary(line_list)\n",
    "    for u, items in zip(user_list, line_list):\n",
    "        data[u].update([dictionary.token2id[item] for item in items])\n",
    "    for u,i in data.items():\n",
    "        if len(i) < 10:\n",
    "            few_buyers.append(u)\n",
    "    for u in few_buyers:\n",
    "        del data[u]\n",
    "    d = {}\n",
    "    user_list = []\n",
    "    for idx,(u,i) in enumerate(data.items()):\n",
    "        d[idx] = i\n",
    "        user_list.append(u)\n",
    "    user_count = len(data.keys())\n",
    "    item_count = len(dictionary)\n",
    "    return (user_count, item_count, d)"
   ]
  },
  {
   "cell_type": "code",
   "execution_count": 10,
   "metadata": {},
   "outputs": [],
   "source": [
    "#user_count, item_count, data = map_data(\"./data.csv\")"
   ]
  },
  {
   "cell_type": "code",
   "execution_count": 11,
   "metadata": {},
   "outputs": [],
   "source": [
    "#data"
   ]
  },
  {
   "cell_type": "code",
   "execution_count": 12,
   "metadata": {},
   "outputs": [],
   "source": [
    "#print(\"item count: \", item_count)\n",
    "#print(\"user count: \", user_count)"
   ]
  },
  {
   "cell_type": "code",
   "execution_count": null,
   "metadata": {},
   "outputs": [],
   "source": []
  },
  {
   "cell_type": "code",
   "execution_count": 13,
   "metadata": {},
   "outputs": [],
   "source": [
    "def generate_test(data):\n",
    "    user_test = dict()\n",
    "    for u, i_list in data.items():\n",
    "        if i_list:\n",
    "            user_test[u] = np.random.choice(list(i_list))\n",
    "    return user_test"
   ]
  },
  {
   "cell_type": "code",
   "execution_count": 14,
   "metadata": {},
   "outputs": [],
   "source": [
    "#data_path = \"./ml-20m/ratings.csv\"\n",
    "#user_count, item_count, data = load_data(data_path)"
   ]
  },
  {
   "cell_type": "code",
   "execution_count": 15,
   "metadata": {},
   "outputs": [],
   "source": [
    "user_ratings_test = generate_test(data)"
   ]
  },
  {
   "cell_type": "code",
   "execution_count": 16,
   "metadata": {},
   "outputs": [],
   "source": [
    "def generate_train_batch(data, user_ratings_test, item_count, batch_size=512):\n",
    "    t = []\n",
    "    for _ in range(batch_size):\n",
    "        u = np.random.choice(list(data.keys()))\n",
    "        i = np.random.choice(list(data[u]))\n",
    "        while i == user_ratings_test[u]:\n",
    "            i = np.random.choice(list(data[u]))\n",
    "        \n",
    "        j = np.random.randint(1, item_count+1)\n",
    "        while j in data[u]:\n",
    "            j = np.random.randint(1, item_count+1)\n",
    "        t.append([u, i, j])\n",
    "    return np.asarray(t)\n",
    "\n",
    "def generate_test_batch(user_ratings, user_ratings_test, item_count):\n",
    "    for u in np.random.choice(list(user_ratings.keys()),2):\n",
    "        t = []\n",
    "        i = user_ratings_test[u]\n",
    "        for j in range(1, item_count+1):\n",
    "            if not (j in user_ratings[u]):\n",
    "                t.append([u, i, j])\n",
    "        yield np.asarray(t)"
   ]
  },
  {
   "cell_type": "code",
   "execution_count": 17,
   "metadata": {},
   "outputs": [
    {
     "data": {
      "text/plain": [
       "array([['10083', '183727', '1007744'],\n",
       "       ['1723252', '1474120', '422531'],\n",
       "       ['786985', '1171507', '1043621'],\n",
       "       ['718721', '1364360', '160371'],\n",
       "       ['1281667', '703869', '427527'],\n",
       "       ['481972', '265271', '931788'],\n",
       "       ['249984', '167012', '232019'],\n",
       "       ['21014', '338251', '1574377'],\n",
       "       ['1281667', '1051214', '541391'],\n",
       "       ['1723252', '1225429', '447027'],\n",
       "       ['1583711', '1278131', '1186599'],\n",
       "       ['61969', '957600', '51093'],\n",
       "       ['10083', '126519', '743297'],\n",
       "       ['602249', '390764', '1128281'],\n",
       "       ['1303982', '311887', '438405'],\n",
       "       ['1583711', '1103373', '878816'],\n",
       "       ['602249', '1549230', '70033'],\n",
       "       ['711699', '1057898', '914514'],\n",
       "       ['210730', '1281128', '321139'],\n",
       "       ['300714', '163494', '1124813'],\n",
       "       ['14171', '408600', '1362662'],\n",
       "       ['252041', '741094', '962851'],\n",
       "       ['406328', '115249', '268089'],\n",
       "       ['13773', '41314', '170536'],\n",
       "       ['781183', '888011', '454640'],\n",
       "       ['376271', '195404', '1574541'],\n",
       "       ['781183', '401251', '344295'],\n",
       "       ['10083', '193492', '923823'],\n",
       "       ['513396', '831643', '294975'],\n",
       "       ['21014', '844970', '894958'],\n",
       "       ['315754', '516540', '678288'],\n",
       "       ['1281667', '295755', '1090139'],\n",
       "       ['613901', '1067676', '156721'],\n",
       "       ['183178', '741724', '240782'],\n",
       "       ['183178', '202657', '566710'],\n",
       "       ['786985', '871712', '1363847'],\n",
       "       ['300714', '21305', '952021'],\n",
       "       ['436152', '185610', '1367160'],\n",
       "       ['457324', '186542', '413452'],\n",
       "       ['786985', '818254', '1242330'],\n",
       "       ['1303982', '869229', '4812'],\n",
       "       ['249984', '331491', '1192169'],\n",
       "       ['481972', '272756', '565092'],\n",
       "       ['461273', '182451', '1423662'],\n",
       "       ['315754', '269244', '1255855'],\n",
       "       ['438676', '369094', '922899'],\n",
       "       ['21285', '312296', '1372626'],\n",
       "       ['602249', '689933', '1181653'],\n",
       "       ['210730', '1283168', '1329826'],\n",
       "       ['481972', '270834', '1431913'],\n",
       "       ['502057', '1361340', '1323826'],\n",
       "       ['1863904', '1149266', '503476'],\n",
       "       ['249984', '101824', '1127852'],\n",
       "       ['718721', '968594', '639396'],\n",
       "       ['300714', '353001', '549913'],\n",
       "       ['61969', '957600', '567581'],\n",
       "       ['602249', '877319', '1378339'],\n",
       "       ['613901', '853075', '247740'],\n",
       "       ['183178', '754347', '1056810'],\n",
       "       ['1281667', '937958', '1464447'],\n",
       "       ['602249', '806895', '610554'],\n",
       "       ['1243879', '1244121', '307914'],\n",
       "       ['921044', '341806', '1266644'],\n",
       "       ['1080038', '696360', '5481'],\n",
       "       ['723090', '713680', '1279987'],\n",
       "       ['21014', '1453140', '580957'],\n",
       "       ['781183', '1431056', '574773'],\n",
       "       ['386342', '715564', '113530'],\n",
       "       ['10083', '126519', '246873'],\n",
       "       ['1131109', '1039218', '986143'],\n",
       "       ['14171', '18685', '1348451'],\n",
       "       ['21285', '258600', '490947'],\n",
       "       ['1243879', '1005854', '422197'],\n",
       "       ['1281667', '1253996', '587854'],\n",
       "       ['14171', '22544', '1464170'],\n",
       "       ['206492', '534726', '185358'],\n",
       "       ['1303982', '1428493', '151702'],\n",
       "       ['315754', '120481', '34819'],\n",
       "       ['789732', '1018619', '185920'],\n",
       "       ['300714', '134350', '883780'],\n",
       "       ['1863904', '1470399', '991362'],\n",
       "       ['208192', '171875', '1391677'],\n",
       "       ['781183', '1148382', '1467488'],\n",
       "       ['14171', '22544', '1240913'],\n",
       "       ['183178', '932750', '935535'],\n",
       "       ['1281667', '1343120', '1240914'],\n",
       "       ['436152', '537927', '306937'],\n",
       "       ['1080038', '1411013', '1568913'],\n",
       "       ['206492', '812259', '660831'],\n",
       "       ['461273', '548669', '767091'],\n",
       "       ['1303982', '1206005', '1228441'],\n",
       "       ['1723252', '1474120', '182597'],\n",
       "       ['773246', '1282413', '368895'],\n",
       "       ['781183', '935480', '61256'],\n",
       "       ['315754', '416156', '1062141'],\n",
       "       ['1131109', '1073270', '1552035'],\n",
       "       ['502057', '941049', '1248244'],\n",
       "       ['789732', '1161422', '1378088'],\n",
       "       ['773246', '172110', '1090635'],\n",
       "       ['10083', '193492', '1474896'],\n",
       "       ['1281667', '898539', '1482709'],\n",
       "       ['210730', '1229792', '531406'],\n",
       "       ['252041', '934759', '62754'],\n",
       "       ['300714', '148515', '161394'],\n",
       "       ['249984', '524139', '902811'],\n",
       "       ['613901', '837231', '975762'],\n",
       "       ['986520', '1187587', '173572'],\n",
       "       ['723090', '1212206', '119881'],\n",
       "       ['386342', '517672', '1480499'],\n",
       "       ['986520', '980640', '731534'],\n",
       "       ['252041', '851650', '1171841'],\n",
       "       ['513396', '1531258', '1057645'],\n",
       "       ['300714', '132834', '1129346'],\n",
       "       ['986520', '980640', '199395'],\n",
       "       ['1303982', '1311683', '1283007'],\n",
       "       ['208192', '124157', '293895'],\n",
       "       ['1303982', '873304', '5726'],\n",
       "       ['287080', '707820', '939890'],\n",
       "       ['1583711', '1095319', '453310'],\n",
       "       ['461273', '844820', '1185902'],\n",
       "       ['252041', '811302', '441338'],\n",
       "       ['21285', '105287', '1543343'],\n",
       "       ['602249', '891745', '297098'],\n",
       "       ['1281667', '311160', '576670'],\n",
       "       ['1281667', '1375192', '832518'],\n",
       "       ['786985', '748439', '616723'],\n",
       "       ['1723252', '1198395', '74096'],\n",
       "       ['438676', '390923', '391848']],\n",
       "      dtype='<U7')"
      ]
     },
     "execution_count": 17,
     "metadata": {},
     "output_type": "execute_result"
    }
   ],
   "source": [
    "generate_train_batch(data, user_ratings_test, item_count, batch_size=128)"
   ]
  },
  {
   "cell_type": "code",
   "execution_count": 18,
   "metadata": {},
   "outputs": [
    {
     "data": {
      "text/plain": [
       "array([['718721', '1147256', '1'],\n",
       "       ['718721', '1147256', '2'],\n",
       "       ['718721', '1147256', '3'],\n",
       "       ..., \n",
       "       ['718721', '1147256', '1579037'],\n",
       "       ['718721', '1147256', '1579038'],\n",
       "       ['718721', '1147256', '1579039']],\n",
       "      dtype='<U7')"
      ]
     },
     "execution_count": 18,
     "metadata": {},
     "output_type": "execute_result"
    }
   ],
   "source": [
    "next(generate_test_batch(data, user_ratings_test, item_count))"
   ]
  },
  {
   "cell_type": "code",
   "execution_count": 19,
   "metadata": {},
   "outputs": [],
   "source": [
    "def weight_variable(shape):\n",
    "    return tf.Variable(tf.random_normal(shape, mean=0.0, stddev=0.01))\n",
    "\n",
    "def bias_variable(shape):\n",
    "    return tf.Variable(tf.random_normal(shape, mean=0.0, stddev=0.01))"
   ]
  },
  {
   "cell_type": "code",
   "execution_count": 20,
   "metadata": {},
   "outputs": [],
   "source": [
    "def bpr(user_count, item_count, hidden_dim, batch_size=512):\n",
    "    \n",
    "    u = tf.placeholder(tf.int32, [None])\n",
    "    i = tf.placeholder(tf.int32, [None])\n",
    "    j = tf.placeholder(tf.int32, [None])\n",
    "\n",
    "    user_w = weight_variable([user_count+1, hidden_dim])\n",
    "    item_w = weight_variable([item_count+1, hidden_dim])\n",
    "    item_b = bias_variable([item_count+1, 1])\n",
    "        \n",
    "        \n",
    "    u_e = tf.nn.embedding_lookup(user_w, u)\n",
    "        \n",
    "    i_e = tf.nn.embedding_lookup(item_w, i)\n",
    "    i_b = tf.nn.embedding_lookup(item_b, i)\n",
    "        \n",
    "    j_e = tf.nn.embedding_lookup(item_w, j)\n",
    "    j_b = tf.nn.embedding_lookup(item_b, j)\n",
    "    \n",
    "    # MF \n",
    "    x = i_b - j_b + tf.reduce_sum(tf.matmul(u_e, tf.transpose((i_e - j_e))), 1, keep_dims=True)\n",
    "    \n",
    "    \n",
    "    auc_per_user = tf.reduce_mean(tf.cast(x > 0,\"float\"))\n",
    "    \n",
    "    l2_norm = tf.add_n([\n",
    "            tf.reduce_sum(tf.norm(u_e)), \n",
    "            tf.reduce_sum(tf.norm(i_e)),\n",
    "            tf.reduce_sum(tf.norm(j_e))\n",
    "        ])\n",
    "    \n",
    "    regu_rate = 0.0001\n",
    "    loss = - tf.reduce_mean(tf.log(tf.sigmoid(x))) + regu_rate * l2_norm\n",
    "    \n",
    "    train_op = tf.train.AdamOptimizer(0.0001).minimize(loss)\n",
    "    return u, i, j, auc_per_user, loss, train_op, user_w, item_w, item_b"
   ]
  },
  {
   "cell_type": "code",
   "execution_count": 21,
   "metadata": {},
   "outputs": [],
   "source": [
    "n_epoch = 2\n",
    "n_iter = 100"
   ]
  },
  {
   "cell_type": "code",
   "execution_count": null,
   "metadata": {
    "scrolled": false
   },
   "outputs": [
    {
     "name": "stderr",
     "output_type": "stream",
     "text": [
      "100%|██████████| 100/100 [00:46<00:00,  2.04it/s]\n",
      "0it [00:00, ?it/s]"
     ]
    },
    {
     "name": "stdout",
     "output_type": "stream",
     "text": [
      "epoch:  0 , loss:  0.634859775603\n"
     ]
    }
   ],
   "source": [
    "with tf.Session() as session:\n",
    "    u, i, j, auc_per_user, loss, train_op,W_u,W_i,b_i = bpr(user_count, item_count, 20)\n",
    "    session.run(tf.global_variables_initializer())\n",
    "    for epoch in range(n_epoch):\n",
    "        _batch_loss = 0\n",
    "        for index in tqdm(range(n_iter)): \n",
    "            uij = generate_train_batch(data, user_ratings_test, item_count)\n",
    "            _loss, _ = session.run([loss, train_op], feed_dict={u:uij[:,0], i:uij[:,1], j:uij[:,2]})\n",
    "            _batch_loss += _loss\n",
    "                   \n",
    "        print(\"epoch: \", epoch, \", loss: \", _batch_loss / (index+1))\n",
    "\n",
    "\n",
    "        _auc_sum = 0.0\n",
    "        user_count = 0\n",
    "        for t_uij in tqdm(generate_test_batch(data, user_ratings_test, item_count)):\n",
    "            _auc_per_user, _test_loss = session.run([auc_per_user, loss],feed_dict={u:t_uij[:,0], i:t_uij[:,1], j:t_uij[:,2]})\n",
    "            user_count += 1\n",
    "            _auc_sum += _auc_per_user\n",
    "            \n",
    "        _auc = _auc_sum/user_count # eq (1) in the paper\n",
    "            \n",
    "        print(\"test loss: \", _test_loss, \", test auc: \", _auc)\n",
    "        wu, wi, bi = session.run([W_u, W_i, b_i])"
   ]
  },
  {
   "cell_type": "code",
   "execution_count": null,
   "metadata": {},
   "outputs": [],
   "source": []
  },
  {
   "cell_type": "code",
   "execution_count": null,
   "metadata": {},
   "outputs": [],
   "source": [
    "def get_ranking(item_id):\n",
    "    #iid = self.item2id[item_id]\n",
    "    iid = item_id\n",
    "    item_vec = bi[iid] + wi[iid]\n",
    "    scores = np.dot(wu, item_vec)\n",
    "    res = [\n",
    "        (np.argsort(scores)[::-1][index],  np.sort(scores)[::-1][index]) for index in range(10)]\n",
    "    return res\n",
    "get_ranking(1)"
   ]
  },
  {
   "cell_type": "code",
   "execution_count": null,
   "metadata": {},
   "outputs": [],
   "source": []
  }
 ],
 "metadata": {
  "kernelspec": {
   "display_name": "Environment (conda_py3.6)",
   "language": "python",
   "name": "conda_py3.6"
  },
  "language_info": {
   "codemirror_mode": {
    "name": "ipython",
    "version": 3
   },
   "file_extension": ".py",
   "mimetype": "text/x-python",
   "name": "python",
   "nbconvert_exporter": "python",
   "pygments_lexer": "ipython3",
   "version": "3.6.2"
  },
  "widgets": {
   "state": {
    "0295a4ca6a4c4db4be499336d2d5652a": {
     "views": [
      {
       "cell_index": 14
      }
     ]
    },
    "0ddf3629ef354850bce4e85c4bc60a1a": {
     "views": [
      {
       "cell_index": 14
      }
     ]
    },
    "0ff3300a49ad49828e39141b5a45005a": {
     "views": [
      {
       "cell_index": 14
      }
     ]
    },
    "1148ca0217c64748ab2e45389b441adb": {
     "views": [
      {
       "cell_index": 14
      }
     ]
    },
    "1648b145a46a4375a01799c0a387e5d0": {
     "views": [
      {
       "cell_index": 14
      }
     ]
    },
    "261000a4df3446fea1578363595a7649": {
     "views": [
      {
       "cell_index": 14
      }
     ]
    },
    "29b24f7d1d6f4f9c946262ecee842cbb": {
     "views": [
      {
       "cell_index": 14
      }
     ]
    },
    "2a1965166dde47e7ad8f2208a2b36202": {
     "views": [
      {
       "cell_index": 14
      }
     ]
    },
    "2f699b7097bd4328ab5af1cd5a6ee9de": {
     "views": [
      {
       "cell_index": 14
      }
     ]
    },
    "41c1196f997b450388a741264bedbbc1": {
     "views": [
      {
       "cell_index": 14
      }
     ]
    },
    "4239a036b4cb4eeea13826c85abc4989": {
     "views": [
      {
       "cell_index": 14
      }
     ]
    },
    "5270744fa77a4c2ca3e32806a1deef47": {
     "views": [
      {
       "cell_index": 14
      }
     ]
    },
    "600b8be4b4a5456aaa05875dfac34cbb": {
     "views": [
      {
       "cell_index": 14
      }
     ]
    },
    "645e915d2bd24202ab1770d96821c679": {
     "views": [
      {
       "cell_index": 14
      }
     ]
    },
    "93f1822203914380a8e22fcfc436bef2": {
     "views": [
      {
       "cell_index": 14
      }
     ]
    },
    "93ffa3088da345ac851c14853faee47d": {
     "views": [
      {
       "cell_index": 14
      }
     ]
    },
    "98a6f3f81b2a4aeb9e4d221363e3b6d9": {
     "views": [
      {
       "cell_index": 14
      }
     ]
    },
    "9e7cad069f1a46068e63d43e74b01a8d": {
     "views": [
      {
       "cell_index": 14
      }
     ]
    },
    "9fe63e1b059a40c69d252736946e9d64": {
     "views": [
      {
       "cell_index": 14
      }
     ]
    },
    "a4ddb3bbad634284bb3e9e1e92b43f99": {
     "views": [
      {
       "cell_index": 14
      }
     ]
    },
    "ad9e25d2563e427f927fb496a0f3b542": {
     "views": [
      {
       "cell_index": 14
      }
     ]
    },
    "e06e5a4c6f234baa9a38123fdcc04a27": {
     "views": [
      {
       "cell_index": 14
      }
     ]
    },
    "e341c6e5f1ae466f89d3108fe2170645": {
     "views": [
      {
       "cell_index": 14
      }
     ]
    },
    "e4dc3767ba2b4333bff31e69dc82e385": {
     "views": [
      {
       "cell_index": 14
      }
     ]
    },
    "ebef623523854d03b7ecaf0500b77802": {
     "views": [
      {
       "cell_index": 14
      }
     ]
    }
   },
   "version": "1.2.0"
  }
 },
 "nbformat": 4,
 "nbformat_minor": 2
}
